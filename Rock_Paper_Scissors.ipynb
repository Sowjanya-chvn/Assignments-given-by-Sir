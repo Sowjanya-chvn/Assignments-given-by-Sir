{
 "cells": [
  {
   "cell_type": "code",
   "execution_count": 3,
   "metadata": {},
   "outputs": [
    {
     "name": "stdout",
     "output_type": "stream",
     "text": [
      "Enter any one Rock, Paper, Scissors: Rock\n",
      "Enter any one Rock, Paper, Scissors: Rock\n",
      "Match Ties\n"
     ]
    }
   ],
   "source": [
    "a=input(\"Enter any one Rock, Paper, Scissors: \")\n",
    "b=input(\"Enter any one Rock, Paper, Scissors: \")\n",
    "if a==\"Rock\":\n",
    "    if b==\"Rock\":\n",
    "        print(\"Match Ties\")\n",
    "    elif b==\"Paper\":\n",
    "        print(\"Person b 'Paper' Wins\")\n",
    "    elif b==\"Scissors\":\n",
    "        print(\"Person a 'Rock' Wins\")\n",
    "elif a==\"Paper\":\n",
    "    if b==\"Paper\":\n",
    "        print(\"Match Ties\")\n",
    "    elif b==\"Rock\":\n",
    "        print(\"Person a 'Paper' Wins\")\n",
    "    elif b==\"Scissors\":\n",
    "        print(\"Person b 'Scissors' Wins\")\n",
    "elif a==\"Scissors\":\n",
    "    if b==\"Scissors\":\n",
    "        print(\"Match Ties\")\n",
    "    elif b==\"Paper\":\n",
    "        print(\"Person a 'Scissors' Wins\")\n",
    "    elif b==\"Rock\":\n",
    "        print(\"Person b 'Scissors' Wins\")\n",
    "else:\n",
    "    print(\"Invaild Game.\")"
   ]
  },
  {
   "cell_type": "code",
   "execution_count": 4,
   "metadata": {},
   "outputs": [
    {
     "name": "stdout",
     "output_type": "stream",
     "text": [
      "Enter any one Rock, Paper, Scissors: Rock\n",
      "Enter any one Rock, Paper, Scissors: Paper\n",
      "Person b 'Paper' Wins\n"
     ]
    }
   ],
   "source": [
    "a=input(\"Enter any one Rock, Paper, Scissors: \")\n",
    "b=input(\"Enter any one Rock, Paper, Scissors: \")\n",
    "if a==\"Rock\":\n",
    "    if b==\"Rock\":\n",
    "        print(\"Match Ties\")\n",
    "    elif b==\"Paper\":\n",
    "        print(\"Person b 'Paper' Wins\")\n",
    "    elif b==\"Scissors\":\n",
    "        print(\"Person a 'Rock' Wins\")\n",
    "elif a==\"Paper\":\n",
    "    if b==\"Paper\":\n",
    "        print(\"Match Ties\")\n",
    "    elif b==\"Rock\":\n",
    "        print(\"Person a 'Paper' Wins\")\n",
    "    elif b==\"Scissors\":\n",
    "        print(\"Person b 'Scissors' Wins\")\n",
    "elif a==\"Scissors\":\n",
    "    if b==\"Scissors\":\n",
    "        print(\"Match Ties\")\n",
    "    elif b==\"Paper\":\n",
    "        print(\"Person a 'Scissors' Wins\")\n",
    "    elif b==\"Rock\":\n",
    "        print(\"Person b 'Scissors' Wins\")\n",
    "else:\n",
    "    print(\"Invaild Game.\")"
   ]
  },
  {
   "cell_type": "code",
   "execution_count": 8,
   "metadata": {},
   "outputs": [
    {
     "name": "stdout",
     "output_type": "stream",
     "text": [
      "Enter any one Rock, Paper, Scissors: Paper\n",
      "Enter any one Rock, Paper, Scissors: Scissors\n",
      "Person b 'Scissors' Wins\n"
     ]
    }
   ],
   "source": [
    "a=input(\"Enter any one Rock, Paper, Scissors: \")\n",
    "b=input(\"Enter any one Rock, Paper, Scissors: \")\n",
    "if a==\"Rock\":\n",
    "    if b==\"Rock\":\n",
    "        print(\"Match Ties\")\n",
    "    elif b==\"Paper\":\n",
    "        print(\"Person b 'Paper' Wins\")\n",
    "    elif b==\"Scissors\":\n",
    "        print(\"Person a 'Rock' Wins\")\n",
    "elif a==\"Paper\":\n",
    "    if b==\"Paper\":\n",
    "        print(\"Match Ties\")\n",
    "    elif b==\"Rock\":\n",
    "        print(\"Person a 'Paper' Wins\")\n",
    "    elif b==\"Scissors\":\n",
    "        print(\"Person b 'Scissors' Wins\")\n",
    "elif a==\"Scissors\":\n",
    "    if b==\"Scissors\":\n",
    "        print(\"Match Ties\")\n",
    "    elif b==\"Paper\":\n",
    "        print(\"Person a 'Scissors' Wins\")\n",
    "    elif b==\"Rock\":\n",
    "        print(\"Person b 'Scissors' Wins\")\n",
    "else:\n",
    "    print(\"Invaild Game.\")"
   ]
  },
  {
   "cell_type": "code",
   "execution_count": 9,
   "metadata": {},
   "outputs": [
    {
     "name": "stdout",
     "output_type": "stream",
     "text": [
      "Enter any one Rock, Paper, Scissors: Paper\n",
      "Enter any one Rock, Paper, Scissors: Paper\n",
      "Match Ties\n"
     ]
    }
   ],
   "source": [
    "a=input(\"Enter any one Rock, Paper, Scissors: \")\n",
    "b=input(\"Enter any one Rock, Paper, Scissors: \")\n",
    "if a==\"Rock\":\n",
    "    if b==\"Rock\":\n",
    "        print(\"Match Ties\")\n",
    "    elif b==\"Paper\":\n",
    "        print(\"Person b 'Paper' Wins\")\n",
    "    elif b==\"Scissors\":\n",
    "        print(\"Person a 'Rock' Wins\")\n",
    "elif a==\"Paper\":\n",
    "    if b==\"Paper\":\n",
    "        print(\"Match Ties\")\n",
    "    elif b==\"Rock\":\n",
    "        print(\"Person a 'Paper' Wins\")\n",
    "    elif b==\"Scissors\":\n",
    "        print(\"Person b 'Scissors' Wins\")\n",
    "elif a==\"Scissors\":\n",
    "    if b==\"Scissors\":\n",
    "        print(\"Match Ties\")\n",
    "    elif b==\"Paper\":\n",
    "        print(\"Person a 'Scissors' Wins\")\n",
    "    elif b==\"Rock\":\n",
    "        print(\"Person b 'Scissors' Wins\")\n",
    "else:\n",
    "    print(\"Invaild Game.\")"
   ]
  },
  {
   "cell_type": "code",
   "execution_count": 2,
   "metadata": {},
   "outputs": [
    {
     "name": "stdout",
     "output_type": "stream",
     "text": [
      "Person 1 Enter any one Rock, Paper, Scissors: rOCK\n",
      "Enter any one Rock, Paper, Scissors: EF\n",
      "Invaild Game.\n"
     ]
    }
   ],
   "source": [
    "a=input(\"Person 1 Enter any one Rock, Paper, Scissors: \")\n",
    "b=input(\"Enter any one Rock, Paper, Scissors: \")\n",
    "if a==\"Rock\":\n",
    "    if b==\"Rock\":\n",
    "        print(\"Match Ties\")\n",
    "    elif b==\"Paper\":\n",
    "        print(\"Person b 'Paper' Wins\")\n",
    "    elif b==\"Scissors\":\n",
    "        print(\"Person a 'Rock' Wins\")\n",
    "elif a==\"Paper\":\n",
    "    if b==\"Paper\":\n",
    "        print(\"Match Ties\")\n",
    "    elif b==\"Rock\":\n",
    "        print(\"Person a 'Paper' Wins\")\n",
    "    elif b==\"Scissors\":\n",
    "        print(\"Person b 'Scissors' Wins\")\n",
    "elif a==\"Scissors\":\n",
    "    if b==\"Scissors\":\n",
    "        print(\"Match Ties\")\n",
    "    elif b==\"Paper\":\n",
    "        print(\"Person a 'Scissors' Wins\")\n",
    "    elif b==\"Rock\":\n",
    "        print(\"Person b 'Scissors' Wins\")\n",
    "else:\n",
    "    print(\"Invaild Game.\")"
   ]
  },
  {
   "cell_type": "code",
   "execution_count": null,
   "metadata": {},
   "outputs": [],
   "source": []
  }
 ],
 "metadata": {
  "kernelspec": {
   "display_name": "Python 3",
   "language": "python",
   "name": "python3"
  },
  "language_info": {
   "codemirror_mode": {
    "name": "ipython",
    "version": 3
   },
   "file_extension": ".py",
   "mimetype": "text/x-python",
   "name": "python",
   "nbconvert_exporter": "python",
   "pygments_lexer": "ipython3",
   "version": "3.7.4"
  }
 },
 "nbformat": 4,
 "nbformat_minor": 2
}
