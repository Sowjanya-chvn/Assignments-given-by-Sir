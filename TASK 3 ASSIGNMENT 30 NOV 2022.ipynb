{
 "cells": [
  {
   "cell_type": "code",
   "execution_count": 1,
   "metadata": {},
   "outputs": [
    {
     "name": "stdout",
     "output_type": "stream",
     "text": [
      "0\n",
      "1\n",
      "2\n",
      "4\n",
      "5\n"
     ]
    }
   ],
   "source": [
    "# 1) Write a Python program that prints all the numbers from 0 to 6 except 3 and 6\n",
    "x=[0,1,2,3,4,5,6]\n",
    "for y in x:\n",
    "    if y==3 or y==6:\n",
    "        continue\n",
    "    else:\n",
    "        print(x[y])"
   ]
  },
  {
   "cell_type": "code",
   "execution_count": 2,
   "metadata": {},
   "outputs": [
    {
     "name": "stdout",
     "output_type": "stream",
     "text": [
      "Enter a number:6\n",
      "21\n"
     ]
    }
   ],
   "source": [
    "# 2) Write a program to accept a number from a user and calculate the sum of all numbers from 1 to a given number\n",
    "x=int(input(\"Enter a number:\"))\n",
    "count=0\n",
    "for y in range(1,x+1):\n",
    "    count=count+y\n",
    "print(count)"
   ]
  },
  {
   "cell_type": "code",
   "execution_count": 3,
   "metadata": {},
   "outputs": [],
   "source": [
    "# 3) Write a program to print multiplication table of a given number(input)\n",
    "def multiple(x,y):\n",
    "    print(\"The Multiplication Table of {} is:\".format(x))\n",
    "    for z in range(1,y):\n",
    "        print(\"{} * {} = {}\".format(x,z,x*z))"
   ]
  },
  {
   "cell_type": "code",
   "execution_count": 4,
   "metadata": {},
   "outputs": [
    {
     "name": "stdout",
     "output_type": "stream",
     "text": [
      "The Multiplication Table of 5 is:\n",
      "5 * 1 = 5\n",
      "5 * 2 = 10\n",
      "5 * 3 = 15\n",
      "5 * 4 = 20\n",
      "5 * 5 = 25\n",
      "5 * 6 = 30\n",
      "5 * 7 = 35\n",
      "5 * 8 = 40\n",
      "5 * 9 = 45\n",
      "5 * 10 = 50\n"
     ]
    }
   ],
   "source": [
    "multiple(5,11)"
   ]
  },
  {
   "cell_type": "code",
   "execution_count": 5,
   "metadata": {},
   "outputs": [
    {
     "name": "stdout",
     "output_type": "stream",
     "text": [
      "Enter the Number:5\n",
      "Enter the Number till where the table have to end:15\n",
      "The Multiplication Table of 5 is:\n",
      "5 * 1 = 5\n",
      "5 * 2 = 10\n",
      "5 * 3 = 15\n",
      "5 * 4 = 20\n",
      "5 * 5 = 25\n",
      "5 * 6 = 30\n",
      "5 * 7 = 35\n",
      "5 * 8 = 40\n",
      "5 * 9 = 45\n",
      "5 * 10 = 50\n",
      "5 * 11 = 55\n",
      "5 * 12 = 60\n",
      "5 * 13 = 65\n",
      "5 * 14 = 70\n",
      "5 * 15 = 75\n"
     ]
    }
   ],
   "source": [
    "x=int(input(\"Enter the Number:\"))\n",
    "y=int(input(\"Enter the Number till where the table have to end:\"))\n",
    "print(\"The Multiplication Table of {} is:\".format(x))\n",
    "for z in range(1,y+1):\n",
    "    print(\"{} * {} = {}\".format(x,z,x*z))"
   ]
  },
  {
   "cell_type": "code",
   "execution_count": 6,
   "metadata": {},
   "outputs": [
    {
     "name": "stdout",
     "output_type": "stream",
     "text": [
      "Enter the number:12345678910111213\n",
      "Number of digits: 17\n"
     ]
    }
   ],
   "source": [
    "# 4) Write a program to count the total number of digits in a number using a while loop.\n",
    "num=int(input(\"Enter the number:\"))\n",
    "count = 0\n",
    "while num != 0:\n",
    "    num //= 10\n",
    "    count += 1\n",
    "\n",
    "print(\"Number of digits: \" + str(count))"
   ]
  },
  {
   "cell_type": "code",
   "execution_count": 7,
   "metadata": {},
   "outputs": [
    {
     "name": "stdout",
     "output_type": "stream",
     "text": [
      "Enter the number:123456789011111213\n",
      "18\n"
     ]
    }
   ],
   "source": [
    "num=int(input(\"Enter the number:\"))\n",
    "print(len(str(num)))"
   ]
  },
  {
   "cell_type": "code",
   "execution_count": 9,
   "metadata": {},
   "outputs": [
    {
     "name": "stdout",
     "output_type": "stream",
     "text": [
      "Enter a number between 1 to 10:5\n",
      "Guess the value again\n",
      "Enter a number between 1 to 10:3\n",
      "Guess the value again\n",
      "Enter a number between 1 to 10:1\n",
      "Guess the value again\n",
      "Enter a number between 1 to 10:7\n",
      "Guess the value again\n",
      "Enter a number between 1 to 10:8\n",
      "Guess the value again\n",
      "Enter a number between 1 to 10:6\n",
      "Well Guessed\n"
     ]
    }
   ],
   "source": [
    "# 5) Write a Python program to guess a number between 1 to Example: User is prompted to enter a guess. \n",
    "# If the user guesses wrong then the prompt appears again until the guess is correct, on successful guess, \n",
    "# user will get a \"Well guessed!\" message, and the program will exit.\n",
    "for y in range(0,11):\n",
    "    x=int(input(\"Enter a number between 1 to 10:\"))\n",
    "    if x!=6:\n",
    "        print(\"Guess the value again\")\n",
    "    else:\n",
    "        print(\"Well Guessed\")\n",
    "        break"
   ]
  },
  {
   "cell_type": "code",
   "execution_count": 10,
   "metadata": {},
   "outputs": [
    {
     "name": "stdout",
     "output_type": "stream",
     "text": [
      "Enter a number between 1 to 10:2\n",
      "Guess the value again\n",
      "Enter a number between 1 to 10:3\n",
      "Guess the value again\n",
      "Enter a number between 1 to 10:5\n",
      "Guess the value again\n",
      "Enter a number between 1 to 10:4\n",
      "Guess the value again\n",
      "Enter a number between 1 to 10:7\n",
      "Guess the value again\n",
      "Enter a number between 1 to 10:8\n",
      "Guess the value again\n",
      "Enter a number between 1 to 10:9\n",
      "Guess the value again\n",
      "Enter a number between 1 to 10:10\n",
      "Guess the value again\n",
      "Enter a number between 1 to 10:6\n",
      "Well Guessed\n"
     ]
    }
   ],
   "source": [
    "while True:\n",
    "    x=int(input(\"Enter a number between 1 to 10:\"))\n",
    "    if x!=6:\n",
    "        print(\"Guess the value again\")\n",
    "    else:\n",
    "        print(\"Well Guessed\")\n",
    "        break"
   ]
  },
  {
   "cell_type": "code",
   "execution_count": 11,
   "metadata": {},
   "outputs": [
    {
     "name": "stdout",
     "output_type": "stream",
     "text": [
      "1\n",
      "2\n",
      "Fizz\n",
      "4\n",
      "Buzz\n",
      "Fizz\n",
      "7\n",
      "8\n",
      "Fizz\n",
      "Buzz\n",
      "11\n",
      "Fizz\n",
      "13\n",
      "14\n",
      "FizzBuzz\n",
      "16\n",
      "17\n",
      "Fizz\n",
      "19\n",
      "Buzz\n",
      "Fizz\n",
      "22\n",
      "23\n",
      "Fizz\n",
      "Buzz\n",
      "26\n",
      "Fizz\n",
      "28\n",
      "29\n",
      "FizzBuzz\n",
      "31\n",
      "32\n",
      "Fizz\n",
      "34\n",
      "Buzz\n",
      "Fizz\n",
      "37\n",
      "38\n",
      "Fizz\n",
      "Buzz\n",
      "41\n",
      "Fizz\n",
      "43\n",
      "44\n",
      "FizzBuzz\n",
      "46\n",
      "47\n",
      "Fizz\n",
      "49\n",
      "Buzz\n",
      "Fizz\n",
      "52\n",
      "53\n",
      "Fizz\n",
      "Buzz\n",
      "56\n",
      "Fizz\n",
      "58\n",
      "59\n",
      "FizzBuzz\n"
     ]
    }
   ],
   "source": [
    "# 6) Write a Python program which iterates the integers from 1 to 60. For multiples of three print \"Fizz\" instead of the\n",
    "# number and for the multiples of five print \"Buzz\". \n",
    "# Fornumbers which are multiples of both three and five print \"FizzBuzz\".\n",
    "for x in range(1,61):\n",
    "    if x%3==0 and x%5==0:\n",
    "        print(\"FizzBuzz\")\n",
    "    elif x%3==0:\n",
    "        print(\"Fizz\")\n",
    "    elif x%5==0:\n",
    "        print(\"Buzz\")\n",
    "    else:\n",
    "        print(x)"
   ]
  },
  {
   "cell_type": "code",
   "execution_count": 12,
   "metadata": {},
   "outputs": [
    {
     "name": "stdout",
     "output_type": "stream",
     "text": [
      "Enter the String:Sowjanya143Kartheek\n",
      "No. of Letters in the given String 16\n",
      "No. of Digits in the given String 3\n"
     ]
    }
   ],
   "source": [
    "# 7) Write a Python program that accepts a string and calculate the number of digits and letters\n",
    "x=input(\"Enter the String:\")\n",
    "d=l=0\n",
    "for y in x:\n",
    "    if y.isdigit():\n",
    "        d=d+1\n",
    "    elif y.isalpha():\n",
    "        l=l+1\n",
    "    else:\n",
    "        continue\n",
    "print(\"No. of Letters in the given String\", l)\n",
    "print(\"No. of Digits in the given String\", d)"
   ]
  },
  {
   "cell_type": "code",
   "execution_count": 13,
   "metadata": {},
   "outputs": [
    {
     "name": "stdout",
     "output_type": "stream",
     "text": [
      "Enter the Password:Aarnika@0120\n",
      "Password is Valid\n"
     ]
    }
   ],
   "source": [
    "# 8) Write a Python program to check the validity of password input by users.\n",
    "# Validation:\n",
    "# 1) At least 1 letter between [a-z] and 1 letter between [A-Z].\n",
    "# 2) At least 1 number between [0-9].\n",
    "# 3) At least 1 character from [$#@].\n",
    "# 4) Minimum length 6 characters.\n",
    "# 5) Maximum length 16 characters.\n",
    "x=input(\"Enter the Password:\")\n",
    "l=u=d=s=0\n",
    "c=['$','#','@']\n",
    "y=len(x)\n",
    "if y>=6 and y<=16:\n",
    "    for i in x:\n",
    "        if i.islower():\n",
    "            l=l+1\n",
    "        if i.isupper():\n",
    "            u=u+1\n",
    "        if i.isdigit():\n",
    "            d=d+1\n",
    "        if i in c:\n",
    "            s=s+1\n",
    "if l>=1 and u>=1 and d>=1 and s>=1 and l+u+d+s==len(x):\n",
    "    print(\"Password is Valid\")\n",
    "else:\n",
    "    print(\"Password is Invalid\")"
   ]
  },
  {
   "cell_type": "code",
   "execution_count": 14,
   "metadata": {},
   "outputs": [
    {
     "name": "stdout",
     "output_type": "stream",
     "text": [
      "Enter the Password:aarnika@0120\n",
      "Password is Invalid\n"
     ]
    }
   ],
   "source": [
    "x=input(\"Enter the Password:\")\n",
    "l=u=d=s=0\n",
    "c=['$','#','@']\n",
    "y=len(x)\n",
    "if y>=6 and y<=16:\n",
    "    for i in x:\n",
    "        if i.islower():\n",
    "            l=l+1\n",
    "        if i.isupper():\n",
    "            u=u+1\n",
    "        if i.isdigit():\n",
    "            d=d+1\n",
    "        if i in c:\n",
    "            s=s+1\n",
    "if l>=1 and u>=1 and d>=1 and s>=1 and l+u+d+s==len(x):\n",
    "    print(\"Password is Valid\")\n",
    "else:\n",
    "    print(\"Password is Invalid\")"
   ]
  },
  {
   "cell_type": "code",
   "execution_count": 15,
   "metadata": {},
   "outputs": [
    {
     "name": "stdout",
     "output_type": "stream",
     "text": [
      "Enter the String:Sowjanya\n",
      "The Reverse of the given String is: aynajwoS\n"
     ]
    }
   ],
   "source": [
    "# 9) Write a program in Python to reverse a word by using while loop\n",
    "x=input(\"Enter the String:\")\n",
    "rs=\"\"\n",
    "count=len(x)\n",
    "while count>0:\n",
    "    rs+=x[count-1]\n",
    "    count=count-1  \n",
    "print (\"The Reverse of the given String is:\",rs)"
   ]
  },
  {
   "cell_type": "code",
   "execution_count": 16,
   "metadata": {},
   "outputs": [
    {
     "name": "stdout",
     "output_type": "stream",
     "text": [
      "5.5\n"
     ]
    }
   ],
   "source": [
    "# 10) Write a program which takes 10 integers as input using loop and print their average value on the screen\n",
    "x=[1,2,3,4,5,6,7,8,9,10]\n",
    "count=0\n",
    "for y in x:\n",
    "    count=count+y\n",
    "print(count/len(x))"
   ]
  },
  {
   "cell_type": "code",
   "execution_count": 17,
   "metadata": {},
   "outputs": [],
   "source": [
    "def f1(*x):\n",
    "    count=0\n",
    "    for y in x:\n",
    "        count+=y\n",
    "    print(count/len(x))"
   ]
  },
  {
   "cell_type": "code",
   "execution_count": 18,
   "metadata": {},
   "outputs": [
    {
     "name": "stdout",
     "output_type": "stream",
     "text": [
      "5.5\n"
     ]
    }
   ],
   "source": [
    "f1(1,2,3,4,5,6,7,8,9,10)"
   ]
  },
  {
   "cell_type": "code",
   "execution_count": 19,
   "metadata": {},
   "outputs": [
    {
     "name": "stdout",
     "output_type": "stream",
     "text": [
      "5.5\n"
     ]
    }
   ],
   "source": [
    "f1(1,2,3,4,5,6,7,8,9,10)"
   ]
  },
  {
   "cell_type": "code",
   "execution_count": 20,
   "metadata": {},
   "outputs": [
    {
     "name": "stdout",
     "output_type": "stream",
     "text": [
      "55.0\n"
     ]
    }
   ],
   "source": [
    "f1(10,20,30,40,50,60,70,80,90,100)"
   ]
  },
  {
   "cell_type": "code",
   "execution_count": 21,
   "metadata": {},
   "outputs": [
    {
     "name": "stdout",
     "output_type": "stream",
     "text": [
      "Enter the numbers:1\n",
      "Enter the numbers:2\n",
      "Enter the numbers:3\n",
      "Enter the numbers:4\n",
      "Enter the numbers:5\n",
      "Enter the numbers:6\n",
      "Enter the numbers:q\n",
      "Exit\n",
      "The Average of the Numbers is:3.5\n",
      "The Product of the Numbers is:720\n"
     ]
    }
   ],
   "source": [
    "# 11) Write a program which takes integer inputs from user until he/she presses “q” \n",
    "# (Ask to press q to quit after every integer input). Print average and product of all numbers.\n",
    "list=[]\n",
    "newlist=[]\n",
    "p=1\n",
    "while True:\n",
    "    x=input('Enter the numbers:')\n",
    "    if x=='q':\n",
    "        print(\"Exit\")\n",
    "        break\n",
    "    list.append(x)\n",
    "for i in list:\n",
    "    a=int(i)\n",
    "    newlist.append(a)\n",
    "for j in newlist:\n",
    "    p=p*j\n",
    "total=sum(newlist)\n",
    "print(\"The Average of the Numbers is:{}\".format(total/len(newlist)))\n",
    "print(\"The Product of the Numbers is:{}\".format(p))"
   ]
  },
  {
   "cell_type": "code",
   "execution_count": 22,
   "metadata": {},
   "outputs": [
    {
     "name": "stdout",
     "output_type": "stream",
     "text": [
      "Enter the String:Sowji143@Kartheek\n",
      "The Letters in the given String SowjiKartheek\n"
     ]
    }
   ],
   "source": [
    "# 12) Write a Python program which will remove all digits or any other characters from the string except alphabets\n",
    "x=input(\"Enter the String:\")\n",
    "l=\"\"\n",
    "for y in x:\n",
    "    if y.isalpha():\n",
    "        l+=y\n",
    "    else:\n",
    "        continue\n",
    "print(\"The Letters in the given String\", l)"
   ]
  },
  {
   "cell_type": "code",
   "execution_count": 23,
   "metadata": {},
   "outputs": [
    {
     "name": "stdout",
     "output_type": "stream",
     "text": [
      "The Sum is : 30\n"
     ]
    }
   ],
   "source": [
    "# 13) Write a python program to find the sum of all even numbers from 0 to 10\n",
    "sum=0\n",
    "for x in range(0,11):\n",
    "    if x%2==0:\n",
    "        sum+=x\n",
    "    else:\n",
    "        continue\n",
    "print(\"The Sum is :\",sum)"
   ]
  },
  {
   "cell_type": "code",
   "execution_count": 24,
   "metadata": {},
   "outputs": [
    {
     "name": "stdout",
     "output_type": "stream",
     "text": [
      "Enter the number:7\n",
      "6\n",
      "5\n",
      "4\n",
      "3\n",
      "2\n",
      "1\n",
      "0\n"
     ]
    }
   ],
   "source": [
    "# 14) Write a python program which will accept a digit and print. All the numbers before it till 0\n",
    "y=int(input(\"Enter the number:\"))\n",
    "while y>0:\n",
    "    print(y-1)\n",
    "    y=y-1"
   ]
  },
  {
   "cell_type": "code",
   "execution_count": 25,
   "metadata": {},
   "outputs": [
    {
     "name": "stdout",
     "output_type": "stream",
     "text": [
      "Enter first number : 5\n",
      "Enter the Sign : *\n",
      "Enter second number : 4\n",
      "5.0 * 4.0 = 20.0\n",
      "Enter first number : 10\n",
      "Enter the Sign : **\n",
      "Enter second number : 3\n",
      "10.0^3.0 = 1000.0\n",
      "Enter first number : c\n",
      "End\n"
     ]
    }
   ],
   "source": [
    "# 15) Create a dynamic calculator which will run continually till you press “c”\n",
    "a=1\n",
    "while a>=1:\n",
    "    x=(input(\"Enter first number : \"))\n",
    "    if x=='C' or x=='c':\n",
    "        print(\"End\")\n",
    "        break\n",
    "    y=(input(\"Enter the Sign : \"))\n",
    "    z=float(input(\"Enter second number : \"))\n",
    "    if y=='+':\n",
    "        print(\"{} + {} = {}\".format(float(x),z,float(x)+z))\n",
    "    elif y=='-':\n",
    "        print(\"{} - {} = {}\".format(float(x),z,float(x)-z))\n",
    "    elif y=='*':\n",
    "        print(\"{} * {} = {}\".format(float(x),z,float(x)*z))\n",
    "    elif y=='/':\n",
    "        print(\"{} / {} = {}\".format(float(x),z,float(x)/z))\n",
    "    elif y=='%':\n",
    "        print(\"{} / {} = {}\".format(float(x),z,float(x)%z))\n",
    "    elif y=='**':\n",
    "        print(\"{}^{} = {}\".format(float(x),z,float(x)**z))\n",
    "    else:\n",
    "        print(\"Invalid Sign\")\n",
    "a=a+1"
   ]
  },
  {
   "cell_type": "code",
   "execution_count": null,
   "metadata": {},
   "outputs": [],
   "source": []
  }
 ],
 "metadata": {
  "kernelspec": {
   "display_name": "Python 3",
   "language": "python",
   "name": "python3"
  },
  "language_info": {
   "codemirror_mode": {
    "name": "ipython",
    "version": 3
   },
   "file_extension": ".py",
   "mimetype": "text/x-python",
   "name": "python",
   "nbconvert_exporter": "python",
   "pygments_lexer": "ipython3",
   "version": "3.7.4"
  }
 },
 "nbformat": 4,
 "nbformat_minor": 2
}
