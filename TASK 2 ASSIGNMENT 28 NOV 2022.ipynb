{
 "cells": [
  {
   "cell_type": "code",
   "execution_count": 1,
   "metadata": {},
   "outputs": [
    {
     "name": "stdout",
     "output_type": "stream",
     "text": [
      "Enter the First Number:10\n",
      "Enter the Second Number:5\n",
      "The Product of these two numbers is: 10.0 * 5.0 = 50.0\n",
      "The Division of these two numbers is: 10.0 / 5.0 = 2.0\n"
     ]
    }
   ],
   "source": [
    "# 1) Write a program to accept two numbers from the user and calculate multiplication, division\n",
    "x=float(input(\"Enter the First Number:\"))\n",
    "y=float(input(\"Enter the Second Number:\"))\n",
    "print(\"The Product of these two numbers is: {} * {} = {}\".format(x,y,x*y))\n",
    "print(\"The Division of these two numbers is: {} / {} = {}\".format(x,y,x/y))"
   ]
  },
  {
   "cell_type": "code",
   "execution_count": 2,
   "metadata": {},
   "outputs": [
    {
     "name": "stdout",
     "output_type": "stream",
     "text": [
      "Enter the String:SOWJANYA\n",
      "The string is: S\n",
      "The string is: W\n",
      "The string is: A\n",
      "The string is: Y\n"
     ]
    }
   ],
   "source": [
    "# 2) Write a python program to print the characters from a string that are present at an even index\n",
    "x=input(\"Enter the String:\")\n",
    "for y in range(len(x)):\n",
    "    if y%2==0:\n",
    "        print(\"The string is:\",x[y])\n",
    "    else:\n",
    "        continue"
   ]
  },
  {
   "cell_type": "code",
   "execution_count": 3,
   "metadata": {},
   "outputs": [
    {
     "name": "stdout",
     "output_type": "stream",
     "text": [
      "Enter the String:SOWJANYA\n",
      "The String is: O\n",
      "The String is: J\n",
      "The String is: N\n",
      "The String is: A\n"
     ]
    }
   ],
   "source": [
    "# 3) Write a python program to print the characters from a string that are present at an odd index\n",
    "x=input(\"Enter the String:\")\n",
    "for y in range(len(x)):\n",
    "    if y%2!=0:\n",
    "        print(\"The String is:\",x[y])\n",
    "    else:\n",
    "        continue"
   ]
  },
  {
   "cell_type": "code",
   "execution_count": 4,
   "metadata": {},
   "outputs": [
    {
     "name": "stdout",
     "output_type": "stream",
     "text": [
      "Enter the 1st Number:10\n",
      "Enter the 2nd Number:8\n",
      "The Sum of two numbers is: 10.0 + 8.0 = 18.0\n"
     ]
    }
   ],
   "source": [
    "# 4) Write a python program which will print the sum of the two numbers if the two numbers are even or it will print the\n",
    "# difference of two numbers\n",
    "x=float(input(\"Enter the 1st Number:\"))\n",
    "y=float(input(\"Enter the 2nd Number:\"))\n",
    "if x%2==0 and y%2==0:\n",
    "    print(\"The Sum of two numbers is: {} + {} = {}\".format(x,y,x+y))\n",
    "else:\n",
    "    print(\"The Difference of two numn=bers is: {} - {} = {}\".format(x,y,x-y))"
   ]
  },
  {
   "cell_type": "code",
   "execution_count": 5,
   "metadata": {},
   "outputs": [],
   "source": [
    "def f1(x,y):\n",
    "    if x%2==0 and y%2==0:\n",
    "        print(\"The Sum of two numbers is: {} + {} = {}\".format(x,y,x+y))\n",
    "    else:\n",
    "        print(\"The Difference of two numn=bers is: {} - {} = {}\".format(x,y,x-y))"
   ]
  },
  {
   "cell_type": "code",
   "execution_count": 6,
   "metadata": {},
   "outputs": [
    {
     "name": "stdout",
     "output_type": "stream",
     "text": [
      "The Difference of two numn=bers is: 10 - 7 = 3\n"
     ]
    }
   ],
   "source": [
    "f1(10,7)"
   ]
  },
  {
   "cell_type": "code",
   "execution_count": 7,
   "metadata": {},
   "outputs": [
    {
     "name": "stdout",
     "output_type": "stream",
     "text": [
      "Enter the string: SOWJANYA\n",
      "SoWjAnYa\n"
     ]
    }
   ],
   "source": [
    "# 5) Write a python program to convert all even indexed alphabets to upper and odd indexed char\n",
    "x=input(\"Enter the string: \")\n",
    "s=\"\"\n",
    "for y in range(len(x)):\n",
    "    if y%2==0:\n",
    "        s=s+x[y].upper()\n",
    "    else:\n",
    "        s=s+x[y].lower()\n",
    "print(s)"
   ]
  },
  {
   "cell_type": "code",
   "execution_count": 8,
   "metadata": {},
   "outputs": [
    {
     "name": "stdout",
     "output_type": "stream",
     "text": [
      "Enter the Number:30\n",
      "True the Number 30 is divisible by 5\n"
     ]
    }
   ],
   "source": [
    "# 6) Write a python program which will print True if the input number is divisible by 5 or else False\n",
    "x=int(input(\"Enter the Number:\"))\n",
    "if x%5==0:\n",
    "    print(\"True the Number {} is divisible by 5\".format(x))\n",
    "else:\n",
    "    print(\"False the Number {} is not divisible by 5\".format(x))"
   ]
  },
  {
   "cell_type": "code",
   "execution_count": 9,
   "metadata": {},
   "outputs": [],
   "source": [
    "def f(x):\n",
    "    if x%5==0:\n",
    "        print(\"True the Number {} is divisible by 5\".format(x))\n",
    "    else:\n",
    "        print(\"False the Number {} is not divisible by 5\".format(x))"
   ]
  },
  {
   "cell_type": "code",
   "execution_count": 10,
   "metadata": {},
   "outputs": [
    {
     "name": "stdout",
     "output_type": "stream",
     "text": [
      "False the Number 24 is not divisible by 5\n"
     ]
    }
   ],
   "source": [
    "f(24)"
   ]
  },
  {
   "cell_type": "code",
   "execution_count": 11,
   "metadata": {},
   "outputs": [
    {
     "name": "stdout",
     "output_type": "stream",
     "text": [
      "Enter the 1st Number:200\n",
      "Enter the 2nd Number7\n",
      "The Product is 200 * 7 = 1400\n"
     ]
    }
   ],
   "source": [
    "# 7) Given two integer numbers return their product only if the product is greater than 1000, else return their sum\n",
    "x=int(input(\"Enter the 1st Number:\"))\n",
    "y=int(input(\"Enter the 2nd Number\"))\n",
    "if x*y>1000:\n",
    "    print(\"The Product is {} * {} = {}\".format(x,y,x*y))\n",
    "else:\n",
    "    print(\"The Sum is {} + {} = {}\".format(x,y,x+y))"
   ]
  },
  {
   "cell_type": "code",
   "execution_count": 12,
   "metadata": {},
   "outputs": [],
   "source": [
    "# 7) Given two integer numbers return their product only if the product is greater than 1000, else return their sum\n",
    "def f(x,y):\n",
    "    if x*y>1000:\n",
    "        print(\"The Product is {} * {} = {}\".format(x,y,x*y))\n",
    "    else:\n",
    "        print(\"The Sum is {} + {} = {}\".format(x,y,x+y))"
   ]
  },
  {
   "cell_type": "code",
   "execution_count": 13,
   "metadata": {},
   "outputs": [
    {
     "name": "stdout",
     "output_type": "stream",
     "text": [
      "The Sum is 10 + 5 = 15\n"
     ]
    }
   ],
   "source": [
    "f(10,5)"
   ]
  },
  {
   "cell_type": "code",
   "execution_count": 14,
   "metadata": {},
   "outputs": [
    {
     "name": "stdout",
     "output_type": "stream",
     "text": [
      "Type input first string: pytho\n",
      "Type input second string: javas\n",
      "pjtvos\n"
     ]
    }
   ],
   "source": [
    "# 8) Given two strings x, y writes a program to return a new string made of x and y’s first, middle, and last characters\n",
    "x=input(\"Type input first string: \")\n",
    "y=input(\"Type input second string: \")\n",
    "s=\"\"\n",
    "s=s+x[0]+y[0]+x[len(x)//2]+y[len(y)//2]+x[-1]+y[-1]\n",
    "print(s)"
   ]
  },
  {
   "cell_type": "code",
   "execution_count": 15,
   "metadata": {},
   "outputs": [],
   "source": [
    "# 9) Write a python program to take three names as input from a user in the single input () function call\n",
    "def names(x,y,z):\n",
    "    print(\"Name 1: {}\".format(x))\n",
    "    print(\"Name 2: {}\".format(y))\n",
    "    print(\"Name 3: {}\".format(z))"
   ]
  },
  {
   "cell_type": "code",
   "execution_count": 16,
   "metadata": {},
   "outputs": [
    {
     "name": "stdout",
     "output_type": "stream",
     "text": [
      "Name 1: Aarnika\n",
      "Name 2: Sowjanya\n",
      "Name 3: Kartheek\n"
     ]
    }
   ],
   "source": [
    "names(\"Aarnika\",\"Sowjanya\",\"Kartheek\")"
   ]
  },
  {
   "cell_type": "code",
   "execution_count": 17,
   "metadata": {},
   "outputs": [
    {
     "name": "stdout",
     "output_type": "stream",
     "text": [
      "Enter the string: abcabab\n",
      "abc@b@b\n"
     ]
    }
   ],
   "source": [
    "# 10) Write a Python program to get a string from a given string where all occurrences of its first char have been\n",
    "# changed to '@', except the first char itself.\n",
    "x=input(\"Enter the string: \")\n",
    "s=x[0]\n",
    "print(x[0]+x[1:].replace(s,\"@\"))"
   ]
  },
  {
   "cell_type": "code",
   "execution_count": 18,
   "metadata": {},
   "outputs": [
    {
     "name": "stdout",
     "output_type": "stream",
     "text": [
      "Enter the String: adding\n",
      "addly\n"
     ]
    }
   ],
   "source": [
    "# 11) Write a Python program to add 'ing' at the end of a given string (string length should be equal to or more than 3).\n",
    "# If the given string already ends with 'ing' then add 'ly' instead.\n",
    "# If the string length of the given string is less than 3, leave it unchanged\n",
    "x=input(\"Enter the String: \")\n",
    "s=\"\"\n",
    "if len(x)>=3:\n",
    "    if x[-3:]==\"ing\":\n",
    "        s=x[:-3]+\"ly\"\n",
    "    else:\n",
    "        s=x+\"ing\"\n",
    "else:\n",
    "    s=x\n",
    "print(s) "
   ]
  },
  {
   "cell_type": "code",
   "execution_count": 19,
   "metadata": {},
   "outputs": [],
   "source": [
    "# 12) Write a python program that accepts two inputs num1 and num2 print True if one of them is 10 \n",
    "# or if their sum is 10 otherwise print False\n",
    "def f(x,y):\n",
    "    if x==10 or y==10 or x+y==10:\n",
    "        print(\"True\")\n",
    "    else:\n",
    "        print(\"False\")"
   ]
  },
  {
   "cell_type": "code",
   "execution_count": 20,
   "metadata": {},
   "outputs": [
    {
     "name": "stdout",
     "output_type": "stream",
     "text": [
      "True\n"
     ]
    }
   ],
   "source": [
    "f(5,10)"
   ]
  },
  {
   "cell_type": "code",
   "execution_count": 21,
   "metadata": {},
   "outputs": [
    {
     "name": "stdout",
     "output_type": "stream",
     "text": [
      "True\n"
     ]
    }
   ],
   "source": [
    "f(10,7)"
   ]
  },
  {
   "cell_type": "code",
   "execution_count": 22,
   "metadata": {},
   "outputs": [
    {
     "name": "stdout",
     "output_type": "stream",
     "text": [
      "True\n"
     ]
    }
   ],
   "source": [
    "f(5,5)"
   ]
  },
  {
   "cell_type": "code",
   "execution_count": 23,
   "metadata": {},
   "outputs": [
    {
     "name": "stdout",
     "output_type": "stream",
     "text": [
      "False\n"
     ]
    }
   ],
   "source": [
    "f(2,7)"
   ]
  },
  {
   "cell_type": "code",
   "execution_count": 24,
   "metadata": {},
   "outputs": [],
   "source": [
    "# 13) Write a python program that accepts three inputs x, y and z print True if x*y>z otherwise False\n",
    "def f(x,y,z):\n",
    "    if x*y>z:\n",
    "        print(\"True\")\n",
    "    else:\n",
    "        print(\"False\")"
   ]
  },
  {
   "cell_type": "code",
   "execution_count": 25,
   "metadata": {},
   "outputs": [
    {
     "name": "stdout",
     "output_type": "stream",
     "text": [
      "True\n"
     ]
    }
   ],
   "source": [
    "f(5,6,7)"
   ]
  },
  {
   "cell_type": "code",
   "execution_count": 26,
   "metadata": {},
   "outputs": [
    {
     "name": "stdout",
     "output_type": "stream",
     "text": [
      "False\n"
     ]
    }
   ],
   "source": [
    "f(5,6,32)"
   ]
  },
  {
   "cell_type": "code",
   "execution_count": 27,
   "metadata": {},
   "outputs": [],
   "source": [
    "# 14) Write a python program that accepts two strings inputs return True depending on whether the total number of\n",
    "# characters in the first string is equal to the total number of characters in the second string\n",
    "def f(x,y):\n",
    "    if len(x)==len(y):\n",
    "        print(\"TRUE\")\n",
    "    else:\n",
    "        print(\"FALSE\")"
   ]
  },
  {
   "cell_type": "code",
   "execution_count": 28,
   "metadata": {},
   "outputs": [
    {
     "name": "stdout",
     "output_type": "stream",
     "text": [
      "TRUE\n"
     ]
    }
   ],
   "source": [
    "f('SOWJANYA','KARTHEEK')"
   ]
  },
  {
   "cell_type": "code",
   "execution_count": 29,
   "metadata": {},
   "outputs": [
    {
     "name": "stdout",
     "output_type": "stream",
     "text": [
      "FALSE\n"
     ]
    }
   ],
   "source": [
    "f('SOWJANYA','KARTEEK')"
   ]
  },
  {
   "cell_type": "code",
   "execution_count": 30,
   "metadata": {},
   "outputs": [
    {
     "name": "stdout",
     "output_type": "stream",
     "text": [
      "Enter the string: sowjanya\n",
      "sow\n"
     ]
    }
   ],
   "source": [
    "# 15) Write a python program that takes a string input, we'll say that \n",
    "# the front is the first three characters of the string.\n",
    "# If the string length is less than three characters, the front is whatever is there. \n",
    "# Return a new string, which is three copies of the front\n",
    "x=input(\"Enter the string: \")\n",
    "s=\"\"\n",
    "if len(x)<3:\n",
    "    s=x+x+x\n",
    "elif len(x)>=3:\n",
    "    s=x[:3]\n",
    "print(s)"
   ]
  },
  {
   "cell_type": "code",
   "execution_count": 31,
   "metadata": {},
   "outputs": [],
   "source": [
    "# 16) Write a python program that takes in a word and determines whether or not it is plural. \n",
    "# A plural word is one that ends in \"s\".\n",
    "def f(x):\n",
    "    if x[-1]=='s':\n",
    "        print(\"The given string is Plural\")\n",
    "    else:\n",
    "        print(\"The given string is not Plural\")"
   ]
  },
  {
   "cell_type": "code",
   "execution_count": 32,
   "metadata": {},
   "outputs": [
    {
     "name": "stdout",
     "output_type": "stream",
     "text": [
      "The given string is not Plural\n"
     ]
    }
   ],
   "source": [
    "f('sowjanya')"
   ]
  },
  {
   "cell_type": "code",
   "execution_count": 33,
   "metadata": {},
   "outputs": [
    {
     "name": "stdout",
     "output_type": "stream",
     "text": [
      "The given string is Plural\n"
     ]
    }
   ],
   "source": [
    "f('javas')"
   ]
  },
  {
   "cell_type": "code",
   "execution_count": 34,
   "metadata": {},
   "outputs": [],
   "source": [
    "# 17) A bartender is writing a simple program to determine whether he should serve drinks to someone. He only serves\n",
    "# drinks to people 18 and older and when he's not on break (True means break and False means not a break time).\n",
    "# Given the person's age, and whether break time is in session, create a python program which prints \n",
    "# whether he should serve drinks or not.\n",
    "def f(x):\n",
    "    if x==\"True\":\n",
    "        print(\"Bartender should not serve drinks\")\n",
    "    elif x==\"False\":\n",
    "        y=int(input(\"Age of the customer :\"))\n",
    "        if y>=18:\n",
    "            print(\"Bartender should serve drinks\")\n",
    "        else:\n",
    "            print(\"Bartender should not serve drinks\")\n",
    "    else:\n",
    "        print(\"Input has to be True or False\")"
   ]
  },
  {
   "cell_type": "code",
   "execution_count": 35,
   "metadata": {},
   "outputs": [
    {
     "name": "stdout",
     "output_type": "stream",
     "text": [
      "Age of the customer :25\n",
      "Bartender should serve drinks\n"
     ]
    }
   ],
   "source": [
    "f('False')"
   ]
  },
  {
   "cell_type": "code",
   "execution_count": 36,
   "metadata": {},
   "outputs": [
    {
     "name": "stdout",
     "output_type": "stream",
     "text": [
      "Age of the customer :15\n",
      "Bartender should not serve drinks\n"
     ]
    }
   ],
   "source": [
    "f('False')"
   ]
  },
  {
   "cell_type": "code",
   "execution_count": 37,
   "metadata": {},
   "outputs": [
    {
     "name": "stdout",
     "output_type": "stream",
     "text": [
      "Bartender should not serve drinks\n"
     ]
    }
   ],
   "source": [
    "f(\"True\")"
   ]
  },
  {
   "cell_type": "code",
   "execution_count": 38,
   "metadata": {},
   "outputs": [
    {
     "name": "stdout",
     "output_type": "stream",
     "text": [
      "Type the name of Manoj Kumar family (Shiva/Letha/Tarun/Kavitha): s\n",
      "Shiva father\n"
     ]
    }
   ],
   "source": [
    "# 18) Manoj Kumar has family and friends. Help him remind them who is who. Given a string with a name, \n",
    "# return the relation of that person to Manoj Kumar.\n",
    "x=input(\"Type the name of Manoj Kumar family (Shiva/Letha/Tarun/Kavitha): \")\n",
    "if x[0]==\"S\" or x[0]==\"s\":\n",
    "    print(\"Shiva father\")\n",
    "elif x[0]==\"L\" or x[0]==\"l\":\n",
    "    print(\"Letha mother\")\n",
    "elif x[0]==\"T\" or x[0]==\"t\":\n",
    "    print(\"Tarun brother\")"
   ]
  },
  {
   "cell_type": "code",
   "execution_count": 39,
   "metadata": {},
   "outputs": [
    {
     "name": "stdout",
     "output_type": "stream",
     "text": [
      "Enter the String:Sowjanya\n",
      "oaaSwjny\n"
     ]
    }
   ],
   "source": [
    "# 19) Write a python program that takes a string, breaks it up and returns it with vowels first, consonants second.\n",
    "# For any character that's not a vowel (like special characters or spaces), treat them like consonants\n",
    "x=input(\"Enter the String:\")\n",
    "y=\"\"\n",
    "z=\"\"\n",
    "v=('a','e','i','o','u')\n",
    "for t in range(len(x)):\n",
    "    if x[t] in v:\n",
    "        y=y+x[t]\n",
    "    else:\n",
    "        z=z+x[t]\n",
    "print(y+z)"
   ]
  },
  {
   "cell_type": "code",
   "execution_count": 40,
   "metadata": {},
   "outputs": [],
   "source": [
    "# 20) Create a dynamic calculator which asks for numbers and operator and return the answers\n",
    "def f1(a,b,c):\n",
    "    if b=='+':\n",
    "        return (\"{} + {} = {}\".format(a,c,a+c))\n",
    "    elif b=='-':\n",
    "        return (\"{} - {} = {}\".format(a,c,a-c))\n",
    "    elif b=='*':\n",
    "        return (\"{} * {} = {}\".format(a,c,a*c))\n",
    "    elif b=='/':\n",
    "        return (\"{} / {} = {}\".format(a,c,a/c))\n",
    "    elif b=='%':\n",
    "        return (\"{} % {} = {}\".format(a,c,a%c))\n",
    "    elif b=='**':\n",
    "        return (\"{}^{} = {}\".format(a,c,a**c))\n",
    "    else:\n",
    "        print(\"Invalid Sign\")"
   ]
  },
  {
   "cell_type": "code",
   "execution_count": 41,
   "metadata": {},
   "outputs": [
    {
     "data": {
      "text/plain": [
       "'10 + 5 = 15'"
      ]
     },
     "execution_count": 41,
     "metadata": {},
     "output_type": "execute_result"
    }
   ],
   "source": [
    "f1(10,'+',5)"
   ]
  },
  {
   "cell_type": "code",
   "execution_count": 42,
   "metadata": {},
   "outputs": [
    {
     "data": {
      "text/plain": [
       "'10 - 5 = 5'"
      ]
     },
     "execution_count": 42,
     "metadata": {},
     "output_type": "execute_result"
    }
   ],
   "source": [
    "f1(10,'-',5)"
   ]
  },
  {
   "cell_type": "code",
   "execution_count": 43,
   "metadata": {},
   "outputs": [
    {
     "data": {
      "text/plain": [
       "'10 / 5 = 2.0'"
      ]
     },
     "execution_count": 43,
     "metadata": {},
     "output_type": "execute_result"
    }
   ],
   "source": [
    "f1(10,'/',5)"
   ]
  },
  {
   "cell_type": "code",
   "execution_count": 44,
   "metadata": {},
   "outputs": [
    {
     "data": {
      "text/plain": [
       "'10 % 5 = 0'"
      ]
     },
     "execution_count": 44,
     "metadata": {},
     "output_type": "execute_result"
    }
   ],
   "source": [
    "f1(10,'%',5)"
   ]
  },
  {
   "cell_type": "code",
   "execution_count": 45,
   "metadata": {},
   "outputs": [
    {
     "data": {
      "text/plain": [
       "'10 * 5 = 50'"
      ]
     },
     "execution_count": 45,
     "metadata": {},
     "output_type": "execute_result"
    }
   ],
   "source": [
    "f1(10,'*',5)"
   ]
  },
  {
   "cell_type": "code",
   "execution_count": 46,
   "metadata": {},
   "outputs": [
    {
     "data": {
      "text/plain": [
       "'10^5 = 100000'"
      ]
     },
     "execution_count": 46,
     "metadata": {},
     "output_type": "execute_result"
    }
   ],
   "source": [
    "f1(10,'**',5)"
   ]
  },
  {
   "cell_type": "code",
   "execution_count": 47,
   "metadata": {},
   "outputs": [
    {
     "name": "stdout",
     "output_type": "stream",
     "text": [
      "Invalid Sign\n"
     ]
    }
   ],
   "source": [
    "f1(10,'!',5)"
   ]
  },
  {
   "cell_type": "code",
   "execution_count": 48,
   "metadata": {},
   "outputs": [
    {
     "name": "stdout",
     "output_type": "stream",
     "text": [
      "Enter first number : 20\n",
      "Enter the Sign : *\n",
      "Enter second number : 5\n",
      "20.0 * 5.0 = 100.0\n"
     ]
    }
   ],
   "source": [
    "# 20) Create a dynamic calculator which asks for numbers and operator and return the answers\n",
    "a=float(input(\"Enter first number : \"))\n",
    "b=(input(\"Enter the Sign : \"))\n",
    "c=float(input(\"Enter second number : \"))\n",
    "if b=='+':\n",
    "    print(\"{} + {} = {}\".format(a,c,a+c))\n",
    "elif b=='-':\n",
    "    print(\"{} - {} = {}\".format(a,c,a-c))\n",
    "elif b=='*':\n",
    "    print(\"{} * {} = {}\".format(a,c,a*c))\n",
    "elif b=='/':\n",
    "    print(\"{} / {} = {}\".format(a,c,a/c))\n",
    "elif b=='%':\n",
    "    print(\"{} % {} = {}\".format(a,c,a%c))\n",
    "elif b=='**':\n",
    "    print(\"{}^{} = {}\".format(a,c,a**c))\n",
    "else:\n",
    "    print(\"Invalid Sign\")"
   ]
  },
  {
   "cell_type": "code",
   "execution_count": null,
   "metadata": {},
   "outputs": [],
   "source": []
  }
 ],
 "metadata": {
  "kernelspec": {
   "display_name": "Python 3",
   "language": "python",
   "name": "python3"
  },
  "language_info": {
   "codemirror_mode": {
    "name": "ipython",
    "version": 3
   },
   "file_extension": ".py",
   "mimetype": "text/x-python",
   "name": "python",
   "nbconvert_exporter": "python",
   "pygments_lexer": "ipython3",
   "version": "3.7.4"
  }
 },
 "nbformat": 4,
 "nbformat_minor": 2
}
