{
 "cells": [
  {
   "cell_type": "code",
   "execution_count": 1,
   "metadata": {},
   "outputs": [
    {
     "data": {
      "text/plain": [
       "'abcdef'"
      ]
     },
     "execution_count": 1,
     "metadata": {},
     "output_type": "execute_result"
    }
   ],
   "source": [
    "# 1. WRITE A PYTHON PROGRAM TO CONVERT A STRING TO LOWER CASE\n",
    "x='ABCDEF'\n",
    "x.lower()"
   ]
  },
  {
   "cell_type": "code",
   "execution_count": 2,
   "metadata": {},
   "outputs": [
    {
     "name": "stdout",
     "output_type": "stream",
     "text": [
      "Enter a Word: PYTHON\n",
      " p\n",
      " py\n",
      " pyt\n",
      " pyth\n",
      " pytho\n",
      " python\n"
     ]
    }
   ],
   "source": [
    "x=input(\"Enter a Word: \")\n",
    "count=0\n",
    "newstring=\" \"\n",
    "for y in x:\n",
    "    count=count+1\n",
    "    newstring+=y.lower()\n",
    "    print(newstring)"
   ]
  },
  {
   "cell_type": "code",
   "execution_count": 3,
   "metadata": {},
   "outputs": [
    {
     "name": "stdout",
     "output_type": "stream",
     "text": [
      "Enter a Word: PYTHON\n",
      " P\n",
      " Py\n",
      " PyT\n",
      " PyTh\n",
      " PyThO\n",
      " PyThOn\n"
     ]
    }
   ],
   "source": [
    "# 2. WRITE A PYTHON PROGRAM TO CONVERT ONLY ODD INDEXED CHARACTERS TO LOWER CASE\n",
    "x=input(\"Enter a Word: \")\n",
    "count=0\n",
    "newstring=\" \"\n",
    "for y in x:\n",
    "    count=count+1\n",
    "    if count%2!=0:\n",
    "        newstring = newstring+y.upper()\n",
    "        print(newstring)\n",
    "    else:\n",
    "        newstring += y.lower()\n",
    "        print(newstring)"
   ]
  },
  {
   "cell_type": "code",
   "execution_count": 4,
   "metadata": {},
   "outputs": [
    {
     "name": "stdout",
     "output_type": "stream",
     "text": [
      "Enter a word: PYTHON\n",
      " p\n",
      " pY\n",
      " pYt\n",
      " pYtH\n",
      " pYtHo\n",
      " pYtHoN\n"
     ]
    }
   ],
   "source": [
    "# 3. WRITE A PYTHON PROGRAM TO CONVERT ONLY EVEN INDEXED CHARACTERA TO LOWER CASE\n",
    "x=input(\"Enter a word: \")\n",
    "count=0\n",
    "newstring=\" \"\n",
    "for y in x:\n",
    "    count=count+1\n",
    "    if count%2==0:\n",
    "        newstring = newstring+y.upper()\n",
    "        print(newstring)\n",
    "    else:\n",
    "        newstring += y.lower()\n",
    "        print(newstring)"
   ]
  },
  {
   "cell_type": "code",
   "execution_count": 5,
   "metadata": {},
   "outputs": [
    {
     "name": "stdout",
     "output_type": "stream",
     "text": [
      "Enter a Word: python\n",
      " p\n",
      " pY\n",
      " pYt\n",
      " pYtH\n",
      " pYtHo\n",
      " pYtHoN\n"
     ]
    }
   ],
   "source": [
    "# 4. Write a python program to convert only odd indexed characters to upper case\n",
    "x=input(\"Enter a Word: \")\n",
    "count=0\n",
    "newstring=\" \"\n",
    "for y in x:\n",
    "    count=count+1\n",
    "    if count%2!=0:\n",
    "        newstring = newstring+y.lower()\n",
    "        print(newstring)\n",
    "    else:\n",
    "        newstring += y.upper()\n",
    "        print(newstring)"
   ]
  },
  {
   "cell_type": "code",
   "execution_count": 6,
   "metadata": {},
   "outputs": [
    {
     "name": "stdout",
     "output_type": "stream",
     "text": [
      "Enter a word: python\n",
      " P\n",
      " Py\n",
      " PyT\n",
      " PyTh\n",
      " PyThO\n",
      " PyThOn\n"
     ]
    }
   ],
   "source": [
    "# 5. Write a python program to convert only even indexed characters to upper case \n",
    "x=input(\"Enter a word: \")\n",
    "count=0\n",
    "newstring=\" \"\n",
    "for y in x:\n",
    "    count=count+1\n",
    "    if count%2==0:\n",
    "        newstring = newstring+y.lower()\n",
    "        print(newstring)\n",
    "    else:\n",
    "        newstring += y.upper()\n",
    "        print(newstring)"
   ]
  },
  {
   "cell_type": "code",
   "execution_count": 7,
   "metadata": {},
   "outputs": [
    {
     "name": "stdout",
     "output_type": "stream",
     "text": [
      "My Name is: Ch. V. Naga Sowjanya\n",
      "My Gender is:Female\n",
      "My Age is:32\n",
      "My Contact is:8790956006\n",
      "My Father's name is:Ch. V. R. Murthy\n",
      "My Mother's name is:Ch. Valli Murthy\n",
      " My name is Ch. V. Naga Sowjanya, My gender is Female, My age is 32, My contact is 8790956006, My Father's name is Ch. V. R. Murthy and My Mother's name is Ch. Valli Murthy\n"
     ]
    }
   ],
   "source": [
    "# 6. Write a python program where you have different variable which contains your name,sex,age, phone no ,fathers name \n",
    "# and mothers name.And by using this variable create a variable named bio-data where you will use all this variable\n",
    "bio_data=\" \"\n",
    "for a in range(1):\n",
    "    name=input('My Name is: ')\n",
    "    gender=input('My Gender is:')\n",
    "    age=int(input('My Age is:'))\n",
    "    contact=int(input('My Contact is:'))\n",
    "    fathers_name=input(\"My Father's name is:\")\n",
    "    mothers_name=input(\"My Mother's name is:\")    \n",
    "    data=\"My name is {}, My gender is {}, My age is {}, My contact is {}, My Father's name is {} and My Mother's name is {}\".format(name,gender,age,contact,fathers_name,mothers_name)\n",
    "    bio_data=bio_data+data\n",
    "    print(bio_data)"
   ]
  },
  {
   "cell_type": "code",
   "execution_count": 8,
   "metadata": {},
   "outputs": [
    {
     "name": "stdout",
     "output_type": "stream",
     "text": [
      "Enter the string: a@b@c@d@e@f@g@h@i@j@k@l@m@n@o@p@q@r@s@t@u@v@w@x@y@z\n",
      "25\n"
     ]
    }
   ],
   "source": [
    "# 7. Write a python program to count how many times “@” occurred \n",
    "x=input(\"Enter the string: \")\n",
    "y=x.count(\"@\")\n",
    "print(y)"
   ]
  },
  {
   "cell_type": "code",
   "execution_count": 9,
   "metadata": {},
   "outputs": [
    {
     "name": "stdout",
     "output_type": "stream",
     "text": [
      "mail id:Name1@gmail.com\n",
      "mail id:Name2@gmail.com\n",
      "mail id:Name3@gmail.com\n",
      "[' Name1', 'Name2', 'Name3', '']\n"
     ]
    }
   ],
   "source": [
    "# 8. Write a python program to get only names from the string “name1.@gmail.com,name2.@gmail.com,name3.@gmail.com”\n",
    "z=\" \"\n",
    "for a in range(3):\n",
    "    x=input(\"mail id:\")\n",
    "    b=set(x.split())\n",
    "    c=\" \".join(b)\n",
    "    z=z+c\n",
    "d=z.split(\"@gmail.com\")\n",
    "print(d)"
   ]
  },
  {
   "cell_type": "code",
   "execution_count": 10,
   "metadata": {},
   "outputs": [
    {
     "name": "stdout",
     "output_type": "stream",
     "text": [
      "My name is:mynameissa\n"
     ]
    },
    {
     "data": {
      "text/plain": [
       "'mei'"
      ]
     },
     "execution_count": 10,
     "metadata": {},
     "output_type": "execute_result"
    }
   ],
   "source": [
    "# 9.Given a string of odd length greater that 9,return a new string made of the middle three characters of a given String\n",
    "x=input(\"My name is:\")\n",
    "a=int(len(x))\n",
    "b=int(a/2)\n",
    "c=b-1\n",
    "d=c+3\n",
    "x[c:d]"
   ]
  },
  {
   "cell_type": "code",
   "execution_count": 11,
   "metadata": {},
   "outputs": [
    {
     "name": "stdout",
     "output_type": "stream",
     "text": [
      "String 1: soya\n",
      "String 2: wjan\n",
      "so\n",
      "sowjan\n",
      "sowjanya\n"
     ]
    }
   ],
   "source": [
    "# 10. Write a python program to insert a 2 string in the middle of 1 string\n",
    "x=input(\"String 1: \")\n",
    "y=input(\"String 2: \")\n",
    "half=int(len(x)/2)\n",
    "a=x[:half:]\n",
    "print(a)\n",
    "a=a+y\n",
    "print(a)\n",
    "a=a+x[half:]\n",
    "print(a)"
   ]
  },
  {
   "cell_type": "code",
   "execution_count": 12,
   "metadata": {},
   "outputs": [
    {
     "name": "stdout",
     "output_type": "stream",
     "text": [
      "Enter the alphabets: ABCDEFGHIJKLMNOPQRSTUVWXYZ\n",
      "\n",
      "After removing Vowels:   BCDFGHJKLMNPQRSTVWXYZ\n"
     ]
    }
   ],
   "source": [
    "# 11. Write a program to remove vowels from the entire alphabets\n",
    "x=input(\"Enter the alphabets: \")\n",
    "vowels = ['a', 'e', 'i', 'o', 'u', 'A', 'E', 'I', 'O', 'U']\n",
    "y=\" \"\n",
    "for i in range(len(x)):\n",
    "    if x[i] not in vowels:\n",
    "        y=y+x[i]\n",
    "print(\"\\nAfter removing Vowels: \",y)"
   ]
  },
  {
   "cell_type": "code",
   "execution_count": 14,
   "metadata": {},
   "outputs": [
    {
     "name": "stdout",
     "output_type": "stream",
     "text": [
      "Enter the alphabets: abcdefghijklmnopqrstuvwxyz\n",
      "After removing Vowels:  bcdfghjklmnpqrstvwxyz\n"
     ]
    }
   ],
   "source": [
    "x=input(\"Enter the alphabets: \")\n",
    "vowels = ['a', 'e', 'i', 'o', 'u', 'A', 'E', 'I', 'O', 'U']\n",
    "y=\" \"\n",
    "for i in range(len(x)):\n",
    "    if x[i] not in vowels:\n",
    "        y=y+x[i]\n",
    "print(\"After removing Vowels:\",y)"
   ]
  },
  {
   "cell_type": "code",
   "execution_count": null,
   "metadata": {},
   "outputs": [],
   "source": []
  }
 ],
 "metadata": {
  "kernelspec": {
   "display_name": "Python 3",
   "language": "python",
   "name": "python3"
  },
  "language_info": {
   "codemirror_mode": {
    "name": "ipython",
    "version": 3
   },
   "file_extension": ".py",
   "mimetype": "text/x-python",
   "name": "python",
   "nbconvert_exporter": "python",
   "pygments_lexer": "ipython3",
   "version": "3.7.4"
  }
 },
 "nbformat": 4,
 "nbformat_minor": 2
}
