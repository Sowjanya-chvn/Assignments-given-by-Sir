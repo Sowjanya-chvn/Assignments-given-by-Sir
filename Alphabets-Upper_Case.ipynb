{
 "cells": [
  {
   "cell_type": "code",
   "execution_count": 5,
   "metadata": {},
   "outputs": [
    {
     "name": "stdout",
     "output_type": "stream",
     "text": [
      "**** \n",
      "*   *\n",
      "*   *\n",
      "* ** \n",
      "*   *\n",
      "*   *\n",
      "**** \n"
     ]
    }
   ],
   "source": [
    "a=1\n",
    "while a<=7:\n",
    "    if a==1:\n",
    "        print(\"**** \")\n",
    "    elif a==2:\n",
    "        print(\"*   *\")\n",
    "    elif a==4:\n",
    "        print(\"* ** \")\n",
    "    elif a==3:\n",
    "        print(\"*   *\")\n",
    "    elif a==5:\n",
    "        print(\"*   *\")\n",
    "    elif a==6:\n",
    "        print(\"*   *\")\n",
    "    elif a==7:\n",
    "        print(\"**** \")\n",
    "    a=a+1"
   ]
  },
  {
   "cell_type": "code",
   "execution_count": 7,
   "metadata": {},
   "outputs": [
    {
     "name": "stdout",
     "output_type": "stream",
     "text": [
      "*****\n",
      "*   *\n",
      "*****\n",
      "*   *\n",
      "*   *\n"
     ]
    }
   ],
   "source": [
    "a=1\n",
    "while a<=5:\n",
    "    if a==1:\n",
    "        print(\"*****\")\n",
    "    elif a==2:\n",
    "        print(\"*   *\")\n",
    "    elif a==3:\n",
    "        print(\"*****\")\n",
    "    elif a==4:\n",
    "        print(\"*   *\")\n",
    "    elif a==5:\n",
    "        print(\"*   *\")\n",
    "    a=a+1"
   ]
  },
  {
   "cell_type": "code",
   "execution_count": 6,
   "metadata": {},
   "outputs": [
    {
     "name": "stdout",
     "output_type": "stream",
     "text": [
      "  *   *\n",
      "*     \n",
      "*     \n",
      "*    \n",
      "  *   *\n"
     ]
    }
   ],
   "source": [
    "a=1\n",
    "while a<=5:\n",
    "    if a==1:\n",
    "        print(\"  *   *\")\n",
    "    elif a==2:\n",
    "        print(\"*     \")\n",
    "    elif a==3:\n",
    "        print(\"*     \")\n",
    "    elif a==4:\n",
    "        print(\"*    \")\n",
    "    elif a==5:\n",
    "        print(\"  *   *\")\n",
    "    a=a+1"
   ]
  },
  {
   "cell_type": "code",
   "execution_count": 9,
   "metadata": {},
   "outputs": [
    {
     "name": "stdout",
     "output_type": "stream",
     "text": [
      "* *\n",
      "*   *\n",
      "*   *\n",
      "*   *\n",
      "* *\n"
     ]
    }
   ],
   "source": [
    "a=1\n",
    "while a<=5:\n",
    "    if a==1:\n",
    "        print(\"* *\")\n",
    "    elif a==2:\n",
    "        print(\"*   *\")\n",
    "    elif a==3:\n",
    "        print(\"*   *\")\n",
    "    elif a==4:\n",
    "        print(\"*   *\")\n",
    "    elif a==5:\n",
    "        print(\"* *\")\n",
    "    a=a+1"
   ]
  },
  {
   "cell_type": "code",
   "execution_count": 10,
   "metadata": {},
   "outputs": [
    {
     "name": "stdout",
     "output_type": "stream",
     "text": [
      "*****\n",
      "*\n",
      "*\n",
      "*****\n",
      "*\n",
      "*\n",
      "*****\n"
     ]
    }
   ],
   "source": [
    "a=1\n",
    "while a<=7:\n",
    "    if a==1:\n",
    "        print(\"*****\")\n",
    "    elif a==2:\n",
    "        print(\"*\")\n",
    "    elif a==3:\n",
    "        print(\"*\")\n",
    "    elif a==4:\n",
    "        print(\"*****\")\n",
    "    elif a==5:\n",
    "        print(\"*\")\n",
    "    elif a==6:\n",
    "        print(\"*\")\n",
    "    elif a==7:\n",
    "        print(\"*****\")\n",
    "    a=a+1"
   ]
  },
  {
   "cell_type": "code",
   "execution_count": 11,
   "metadata": {},
   "outputs": [
    {
     "name": "stdout",
     "output_type": "stream",
     "text": [
      "*****\n",
      "*\n",
      "*\n",
      "*****\n",
      "*\n",
      "*\n",
      "*\n"
     ]
    }
   ],
   "source": [
    "a=1\n",
    "while a<=7:\n",
    "    if a==1:\n",
    "        print(\"*****\")\n",
    "    elif a==2:\n",
    "        print(\"*\")\n",
    "    elif a==3:\n",
    "        print(\"*\")\n",
    "    elif a==4:\n",
    "        print(\"*****\")\n",
    "    elif a==5:\n",
    "        print(\"*\")\n",
    "    elif a==6:\n",
    "        print(\"*\")\n",
    "    elif a==7:\n",
    "        print(\"*\")\n",
    "    a=a+1"
   ]
  },
  {
   "cell_type": "code",
   "execution_count": 24,
   "metadata": {},
   "outputs": [
    {
     "name": "stdout",
     "output_type": "stream",
     "text": [
      "   ***\n",
      " *\n",
      "*\n",
      "* ****\n",
      "* *  *\n",
      "*  * *\n",
      " *   *\n"
     ]
    }
   ],
   "source": [
    "a=1\n",
    "while a<=7:\n",
    "    if a==1:\n",
    "        print(\"   ***\")\n",
    "    elif a==2:\n",
    "        print(\" *\")\n",
    "    elif a==3:\n",
    "        print(\"*\")\n",
    "    elif a==5:\n",
    "        print(\"* *  *\")\n",
    "    elif a==4:\n",
    "        print(\"* ****\")\n",
    "    elif a==6:\n",
    "        print(\"*  * *\")\n",
    "    elif a==7:\n",
    "        print(\" *   *\")\n",
    "    a=a+1"
   ]
  },
  {
   "cell_type": "code",
   "execution_count": 25,
   "metadata": {},
   "outputs": [
    {
     "name": "stdout",
     "output_type": "stream",
     "text": [
      "*   *\n",
      "*   *\n",
      "*****\n",
      "*   *\n",
      "*   *\n"
     ]
    }
   ],
   "source": [
    "a=1\n",
    "while a<=5:\n",
    "    if a==1:\n",
    "        print(\"*   *\")\n",
    "    elif a==2:\n",
    "        print(\"*   *\")\n",
    "    elif a==3:\n",
    "        print(\"*****\")\n",
    "    elif a==4:\n",
    "        print(\"*   *\")\n",
    "    elif a==5:\n",
    "        print(\"*   *\")\n",
    "    a=a+1"
   ]
  },
  {
   "cell_type": "code",
   "execution_count": 27,
   "metadata": {},
   "outputs": [
    {
     "name": "stdout",
     "output_type": "stream",
     "text": [
      "******\n",
      "  *\n",
      "  *\n",
      "  *\n",
      "******\n"
     ]
    }
   ],
   "source": [
    "a=1\n",
    "while a<=5:\n",
    "    if a==1:\n",
    "        print(\"******\")\n",
    "    elif a==2:\n",
    "        print(\"  *\")\n",
    "    elif a==3:\n",
    "        print(\"  *\")\n",
    "    elif a==4:\n",
    "        print(\"  *\")\n",
    "    elif a==5:\n",
    "        print(\"******\")\n",
    "    a=a+1"
   ]
  },
  {
   "cell_type": "code",
   "execution_count": 29,
   "metadata": {},
   "outputs": [
    {
     "name": "stdout",
     "output_type": "stream",
     "text": [
      "******\n",
      "   *\n",
      "   *\n",
      "*  *\n",
      " * *\n",
      "  *\n"
     ]
    }
   ],
   "source": [
    "a=1\n",
    "while a<=6:\n",
    "    if a==1:\n",
    "        print(\"******\")\n",
    "    elif a==2:\n",
    "        print(\"   *\")\n",
    "    elif a==3:\n",
    "        print(\"   *\")\n",
    "    elif a==4:\n",
    "        print(\"*  *\")\n",
    "    elif a==5:\n",
    "        print(\" * *\")\n",
    "    elif a==6:\n",
    "        print(\"  *\")\n",
    "    a=a+1"
   ]
  },
  {
   "cell_type": "code",
   "execution_count": 31,
   "metadata": {},
   "outputs": [
    {
     "name": "stdout",
     "output_type": "stream",
     "text": [
      "*   *\n",
      "*  *\n",
      "* *\n",
      "**\n",
      "* *\n",
      "*  *\n",
      "*   *\n"
     ]
    }
   ],
   "source": [
    "a=1\n",
    "while a<=7:\n",
    "    if a==1:\n",
    "        print(\"*   *\")\n",
    "    elif a==2:\n",
    "        print(\"*  *\")\n",
    "    elif a==3:\n",
    "        print(\"* *\")\n",
    "    elif a==4:\n",
    "        print(\"**\")\n",
    "    elif a==5:\n",
    "        print(\"* *\")\n",
    "    elif a==6:\n",
    "        print(\"*  *\")\n",
    "    elif a==7:\n",
    "        print(\"*   *\")\n",
    "    a=a+1"
   ]
  },
  {
   "cell_type": "code",
   "execution_count": 33,
   "metadata": {},
   "outputs": [
    {
     "name": "stdout",
     "output_type": "stream",
     "text": [
      "*\n",
      "*\n",
      "*\n",
      "*\n",
      "******\n"
     ]
    }
   ],
   "source": [
    "a=1\n",
    "while a<=5:\n",
    "    if a==1:\n",
    "        print(\"*\")\n",
    "    elif a==2:\n",
    "        print(\"*\")\n",
    "    elif a==3:\n",
    "        print(\"*\")\n",
    "    elif a==4:\n",
    "        print(\"*\")\n",
    "    elif a==5:\n",
    "        print(\"******\")\n",
    "    a=a+1"
   ]
  },
  {
   "cell_type": "code",
   "execution_count": 36,
   "metadata": {},
   "outputs": [
    {
     "name": "stdout",
     "output_type": "stream",
     "text": [
      "*       *\n",
      "* *   * *\n",
      "*   *   *\n",
      "*       *\n",
      "*       *\n"
     ]
    }
   ],
   "source": [
    "a=1\n",
    "while a<=5:\n",
    "    if a==1:\n",
    "        print(\"*       *\")\n",
    "    elif a==2:\n",
    "        print(\"* *   * *\")\n",
    "    elif a==3:\n",
    "        print(\"*   *   *\")\n",
    "    elif a==4:\n",
    "        print(\"*       *\")\n",
    "    elif a==5:\n",
    "        print(\"*       *\")\n",
    "    a=a+1"
   ]
  },
  {
   "cell_type": "code",
   "execution_count": 40,
   "metadata": {},
   "outputs": [
    {
     "name": "stdout",
     "output_type": "stream",
     "text": [
      "*       *\n",
      "* *     *\n",
      "*   *   *\n",
      "*     * *\n",
      "*       *\n"
     ]
    }
   ],
   "source": [
    "a=1\n",
    "while a<=5:\n",
    "    if a==1:\n",
    "        print(\"*       *\")\n",
    "    elif a==2:\n",
    "        print(\"* *     *\")\n",
    "    elif a==3:\n",
    "        print(\"*   *   *\")\n",
    "    elif a==4:\n",
    "        print(\"*     * *\")\n",
    "    elif a==5:\n",
    "        print(\"*       *\")\n",
    "    a=a+1"
   ]
  },
  {
   "cell_type": "code",
   "execution_count": 53,
   "metadata": {},
   "outputs": [
    {
     "name": "stdout",
     "output_type": "stream",
     "text": [
      "    *\n",
      "  *   *\n",
      " *     *\n",
      "*       *\n",
      " *     *\n",
      "  *   *\n",
      "    *\n"
     ]
    }
   ],
   "source": [
    "a=1\n",
    "while a<=7:\n",
    "    if a==1:\n",
    "        print(\"    *\")\n",
    "    elif a==2:\n",
    "        print(\"  *   *\")\n",
    "    elif a==3:\n",
    "        print(\" *     *\")\n",
    "    elif a==4:\n",
    "        print(\"*       *\")\n",
    "    elif a==5:\n",
    "        print(\" *     *\")\n",
    "    elif a==6:\n",
    "        print(\"  *   *\")\n",
    "    elif a==7:\n",
    "        print(\"    *\")\n",
    "    a=a+1"
   ]
  },
  {
   "cell_type": "code",
   "execution_count": 54,
   "metadata": {},
   "outputs": [
    {
     "name": "stdout",
     "output_type": "stream",
     "text": [
      "**\n",
      "*  *\n",
      "*  *\n",
      "* *\n",
      "*\n",
      "*\n",
      "*\n"
     ]
    }
   ],
   "source": [
    "a=1\n",
    "while a<=7:\n",
    "    if a==1:\n",
    "        print(\"**\")\n",
    "    elif a==2:\n",
    "        print(\"*  *\")\n",
    "    elif a==3:\n",
    "        print(\"*  *\")\n",
    "    elif a==4:\n",
    "        print(\"* *\")\n",
    "    elif a==5:\n",
    "        print(\"*\")\n",
    "    elif a==6:\n",
    "        print(\"*\")\n",
    "    elif a==7:\n",
    "        print(\"*\")\n",
    "    a=a+1"
   ]
  },
  {
   "cell_type": "code",
   "execution_count": 68,
   "metadata": {},
   "outputs": [
    {
     "name": "stdout",
     "output_type": "stream",
     "text": [
      "    *   \n",
      "  *   * \n",
      " *      *\n",
      "*        *\n",
      " *      * \n",
      "  *  *  * \n",
      "    * *\n",
      "       *\n"
     ]
    }
   ],
   "source": [
    "a=1\n",
    "while a<=8:\n",
    "    if a==1:\n",
    "        print(\"    *   \")\n",
    "    elif a==2:\n",
    "        print(\"  *   * \")\n",
    "    elif a==3:\n",
    "        print(\" *      *\")\n",
    "    elif a==4:\n",
    "        print(\"*        *\")\n",
    "    elif a==5:\n",
    "        print(\" *      * \")\n",
    "    elif a==6:\n",
    "        print(\"  *  *  * \")\n",
    "    elif a==7:\n",
    "        print(\"    * *\")\n",
    "    elif a==8:\n",
    "        print(\"       *\")\n",
    "    a=a+1"
   ]
  },
  {
   "cell_type": "code",
   "execution_count": 70,
   "metadata": {},
   "outputs": [
    {
     "name": "stdout",
     "output_type": "stream",
     "text": [
      "**\n",
      "*  *\n",
      "*  *\n",
      "* *\n",
      "* *\n",
      "*  *\n",
      "*   *\n"
     ]
    }
   ],
   "source": [
    "a=1\n",
    "while a<=7:\n",
    "    if a==1:\n",
    "        print(\"**\")\n",
    "    elif a==2:\n",
    "        print(\"*  *\")\n",
    "    elif a==3:\n",
    "        print(\"*  *\")\n",
    "    elif a==4:\n",
    "        print(\"* *\")\n",
    "    elif a==5:\n",
    "        print(\"* *\")\n",
    "    elif a==6:\n",
    "        print(\"*  *\")\n",
    "    elif a==7:\n",
    "        print(\"*   *\")\n",
    "    a=a+1"
   ]
  },
  {
   "cell_type": "code",
   "execution_count": 90,
   "metadata": {},
   "outputs": [
    {
     "name": "stdout",
     "output_type": "stream",
     "text": [
      "  *   *\n",
      "*     \n",
      "*     \n",
      "*    \n",
      "  *   * *\n",
      "          *\n",
      "          *\n",
      "          *\n",
      "         *\n",
      "* * * *      \n"
     ]
    }
   ],
   "source": [
    "a=1\n",
    "while a<=10:\n",
    "    if a==1:\n",
    "        print(\"  *   *\")\n",
    "    elif a==2:\n",
    "        print(\"*     \")\n",
    "    elif a==3:\n",
    "        print(\"*     \")\n",
    "    elif a==4:\n",
    "        print(\"*    \")\n",
    "    elif a==5:\n",
    "        print(\"  *   * *\")\n",
    "    elif a==6:\n",
    "        print(\"          *\")\n",
    "    elif a==7:\n",
    "        print(\"          *\")\n",
    "    elif a==8:\n",
    "        print(\"          *\")\n",
    "    elif a==9:\n",
    "        print(\"         *\")\n",
    "    elif a==10:\n",
    "        print(\"* * * *      \")\n",
    "    a=a+1"
   ]
  },
  {
   "cell_type": "code",
   "execution_count": 91,
   "metadata": {},
   "outputs": [
    {
     "name": "stdout",
     "output_type": "stream",
     "text": [
      "******\n",
      "  *\n",
      "  *\n",
      "  *\n",
      "  *\n"
     ]
    }
   ],
   "source": [
    "a=1\n",
    "while a<=5:\n",
    "    if a==1:\n",
    "        print(\"******\")\n",
    "    elif a==2:\n",
    "        print(\"  *\")\n",
    "    elif a==3:\n",
    "        print(\"  *\")\n",
    "    elif a==4:\n",
    "        print(\"  *\")\n",
    "    elif a==5:\n",
    "        print(\"  *\")\n",
    "    a=a+1"
   ]
  },
  {
   "cell_type": "code",
   "execution_count": 101,
   "metadata": {},
   "outputs": [
    {
     "name": "stdout",
     "output_type": "stream",
     "text": [
      "*       *\n",
      "*       *\n",
      "*       *\n",
      "*       *\n",
      " *  * *\n"
     ]
    }
   ],
   "source": [
    "a=1\n",
    "while a<=5:\n",
    "    if a==1:\n",
    "        print(\"*       *\")\n",
    "    elif a==2:\n",
    "        print(\"*       *\")\n",
    "    elif a==3:\n",
    "        print(\"*       *\")\n",
    "    elif a==4:\n",
    "        print(\"*       *\")\n",
    "    elif a==5:\n",
    "        print(\" *  * *\")\n",
    "    a=a+1"
   ]
  },
  {
   "cell_type": "code",
   "execution_count": 112,
   "metadata": {},
   "outputs": [
    {
     "name": "stdout",
     "output_type": "stream",
     "text": [
      "*          *\n",
      " *        *\n",
      "  *      *\n",
      "   *   *\n",
      "     *  \n"
     ]
    }
   ],
   "source": [
    "a=1\n",
    "while a<=5:\n",
    "    if a==1:\n",
    "        print(\"*          *\")\n",
    "    elif a==2:\n",
    "        print(\" *        *\")\n",
    "    elif a==3:\n",
    "        print(\"  *      *\")\n",
    "    elif a==4:\n",
    "        print(\"   *   *\")\n",
    "    elif a==5:\n",
    "        print(\"     *  \")\n",
    "    a=a+1"
   ]
  },
  {
   "cell_type": "code",
   "execution_count": 103,
   "metadata": {},
   "outputs": [
    {
     "name": "stdout",
     "output_type": "stream",
     "text": [
      "*       *\n",
      "*       *\n",
      "*   *   *\n",
      "* *   * *\n",
      "*       *\n"
     ]
    }
   ],
   "source": [
    "a=1\n",
    "while a<=5:\n",
    "    if a==1:\n",
    "        print(\"*       *\")\n",
    "    elif a==2:\n",
    "        print(\"*       *\")\n",
    "    elif a==3:\n",
    "        print(\"*   *   *\")\n",
    "    elif a==4:\n",
    "        print(\"* *   * *\")\n",
    "    elif a==5:\n",
    "        print(\"*       *\")\n",
    "    a=a+1"
   ]
  },
  {
   "cell_type": "code",
   "execution_count": 119,
   "metadata": {},
   "outputs": [
    {
     "name": "stdout",
     "output_type": "stream",
     "text": [
      "*      *\n",
      " *    * \n",
      "  *  *\n",
      "    *\n",
      "  *  *\n",
      " *    * \n",
      "*      *\n"
     ]
    }
   ],
   "source": [
    "a=1\n",
    "while a<=9:\n",
    "    if a==1:\n",
    "        print(\"*      *\")\n",
    "    elif a==2:\n",
    "        print(\" *    * \")\n",
    "    elif a==3:\n",
    "        print(\"  *  *\")\n",
    "    elif a==4:\n",
    "        print(\"    *\")\n",
    "    elif a==7:\n",
    "        print(\"*      *\")\n",
    "    elif a==6:\n",
    "        print(\" *    * \")\n",
    "    elif a==5:\n",
    "        print(\"  *  *\")\n",
    "    elif a==7:\n",
    "        print(\"  *      *\")\n",
    "    a=a+1"
   ]
  },
  {
   "cell_type": "code",
   "execution_count": 120,
   "metadata": {},
   "outputs": [
    {
     "name": "stdout",
     "output_type": "stream",
     "text": [
      "*    *\n",
      " *  *\n",
      "  *\n",
      " *\n",
      "*\n"
     ]
    }
   ],
   "source": [
    "a=1\n",
    "while a<=5:\n",
    "    if a==1:\n",
    "        print(\"*    *\")\n",
    "    elif a==2:\n",
    "        print(\" *  *\")\n",
    "    elif a==3:\n",
    "        print(\"  *\")\n",
    "    elif a==4:\n",
    "        print(\" *\")\n",
    "    elif a==5:\n",
    "            print(\"*\")\n",
    "    a=a+1    "
   ]
  },
  {
   "cell_type": "code",
   "execution_count": 127,
   "metadata": {},
   "outputs": [
    {
     "name": "stdout",
     "output_type": "stream",
     "text": [
      "*******\n",
      "     *\n",
      "    *\n",
      "   *\n",
      "  *\n",
      " *******\n"
     ]
    }
   ],
   "source": [
    "a=1\n",
    "while a<=6:\n",
    "    if a==1:\n",
    "        print(\"*******\")\n",
    "    elif a==2:\n",
    "        print(\"     *\")\n",
    "    elif a==3:\n",
    "        print(\"    *\")\n",
    "    elif a==4:\n",
    "        print(\"   *\")\n",
    "    elif a==5:\n",
    "        print(\"  *\")\n",
    "    elif a==6:\n",
    "        print(\" *******\")\n",
    "    a=a+1"
   ]
  },
  {
   "cell_type": "code",
   "execution_count": null,
   "metadata": {},
   "outputs": [],
   "source": []
  }
 ],
 "metadata": {
  "kernelspec": {
   "display_name": "Python 3",
   "language": "python",
   "name": "python3"
  },
  "language_info": {
   "codemirror_mode": {
    "name": "ipython",
    "version": 3
   },
   "file_extension": ".py",
   "mimetype": "text/x-python",
   "name": "python",
   "nbconvert_exporter": "python",
   "pygments_lexer": "ipython3",
   "version": "3.7.4"
  }
 },
 "nbformat": 4,
 "nbformat_minor": 2
}
