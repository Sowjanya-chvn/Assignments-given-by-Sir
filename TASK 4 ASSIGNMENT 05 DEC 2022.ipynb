{
 "cells": [
  {
   "cell_type": "code",
   "execution_count": 1,
   "metadata": {},
   "outputs": [
    {
     "data": {
      "text/plain": [
       "[1, 2, 3, 4, 7, 8, 9]"
      ]
     },
     "execution_count": 1,
     "metadata": {},
     "output_type": "execute_result"
    }
   ],
   "source": [
    "# 1. Given a list of numbers, write a python program that returns a new list which Has all duplicate elements removed.\n",
    "# And is sorted in an increasing order. Input: [2,1,3,4,2,3,3,2,7,9,8,7]\n",
    "l=[2,1,3,4,2,3,3,2,7,9,8,7]\n",
    "s=set(l)\n",
    "list(s)"
   ]
  },
  {
   "cell_type": "code",
   "execution_count": 2,
   "metadata": {},
   "outputs": [
    {
     "name": "stdout",
     "output_type": "stream",
     "text": [
      "Name Sowjanya\n",
      "Age 32\n",
      "Number 8790956006\n"
     ]
    }
   ],
   "source": [
    "# 2. Write a Python program where you will iterate over both keys and values in dictionaries\n",
    "x={\"Name\":\"Sowjanya\",\"Age\":32,\"Number\":8790956006}\n",
    "for y in x:\n",
    "    print(y,x[y])"
   ]
  },
  {
   "cell_type": "code",
   "execution_count": 3,
   "metadata": {},
   "outputs": [
    {
     "name": "stdout",
     "output_type": "stream",
     "text": [
      "['Aarnika', 'Kartheek', 'Sowjanya']\n"
     ]
    }
   ],
   "source": [
    "# 3. Write a Python program that takes a dictionary of student names and returns \n",
    "# a list of student names in alphabetical order\n",
    "x={\"1st Student\":\"Sowjanya\",\"2nd Student\":\"Aarnika\",\"3rd Student\":\"Kartheek\"}\n",
    "l=[]\n",
    "for y in x.values():\n",
    "    l.append(y)\n",
    "    l.sort()\n",
    "print(l)"
   ]
  },
  {
   "cell_type": "code",
   "execution_count": 4,
   "metadata": {},
   "outputs": [
    {
     "name": "stdout",
     "output_type": "stream",
     "text": [
      "Enter the number containing 0's & 1's:0111101010001110011011100001\n",
      "['False', 'True', 'True', 'True', 'True', 'False', 'True', 'False', 'True', 'False', 'False', 'False', 'True', 'True', 'True', 'False', 'False', 'True', 'True', 'False', 'True', 'True', 'True', 'False', 'False', 'False', 'False', 'True']\n"
     ]
    }
   ],
   "source": [
    "# 4. Write a Python which returns a new list of Booleans, from a given number. \n",
    "#Iterating through the number one digit at a time, append True if the digit is 1 and False if it is 0.\n",
    "x=input(\"Enter the number containing 0's & 1's:\")\n",
    "l=[]\n",
    "for y in x:\n",
    "    if y=='0':\n",
    "        l.append(\"False\")\n",
    "    elif y=='1':\n",
    "        l.append(\"True\")\n",
    "    else:\n",
    "        continue\n",
    "print(l)"
   ]
  },
  {
   "cell_type": "code",
   "execution_count": 5,
   "metadata": {},
   "outputs": [
    {
     "name": "stdout",
     "output_type": "stream",
     "text": [
      "Type the string: my name is naga sowjanya\n",
      "{'m': 2, 'y': 2, ' ': 4, 'n': 3, 'a': 5, 'e': 1, 'i': 1, 's': 2, 'g': 1, 'o': 1, 'w': 1, 'j': 1}\n"
     ]
    }
   ],
   "source": [
    "# 5. Write a Python program where you will return a dictionary where the keys will be the character and \n",
    "# the values will be the occurrence of the character in the string,and it should for any string inputs (dynamic)\n",
    "x=input(\"Type the string: \")\n",
    "d={}\n",
    "for y in x:\n",
    "    d.update({y:x.count(y)})\n",
    "print(d)"
   ]
  },
  {
   "cell_type": "code",
   "execution_count": 6,
   "metadata": {},
   "outputs": [
    {
     "name": "stdout",
     "output_type": "stream",
     "text": [
      "Name of 1st Person : Sowjanya\n",
      "Age of 1st Person : 32\n",
      "Name of 2nd Person : Aarnika\n",
      "Age of 2nd Person : 2\n",
      "Name of 3rd Person : Kartheek\n",
      "Age of 3rd Person : 36\n",
      "Name of the oldest person is:  Kartheek\n",
      "[2, 32, 36]\n"
     ]
    }
   ],
   "source": [
    "# 6. Given a dictionary containing the names and ages of a group of people, return the name of the oldest person\n",
    "x={input(\"Name of 1st Person : \"):int(input(\"Age of 1st Person : \")),input(\"Name of 2nd Person : \"):int(input(\"Age of 2nd Person : \")),input(\"Name of 3rd Person : \"):int(input(\"Age of 3rd Person : \"))}\n",
    "l=list(x.values())\n",
    "l.sort()\n",
    "max=l[-1]\n",
    "for y,z in x.items():\n",
    "     if x[y]==max:\n",
    "            print(\"Name of the oldest person is: \",y)\n",
    "print(l)"
   ]
  },
  {
   "cell_type": "code",
   "execution_count": 7,
   "metadata": {},
   "outputs": [
    {
     "name": "stdout",
     "output_type": "stream",
     "text": [
      "Enter any one Rock, Paper, Scissors: Rock\n",
      "Enter any one Rock, Paper, Scissors: Paper\n",
      "Paper beats Rock\n"
     ]
    }
   ],
   "source": [
    "# 7. Write a Python program to create a Rock, Paper, Scissor game, use two inputs for two players:\n",
    "# Conditions: -Rock beats Scissors, Scissors beats Paper, Paper beats Rock\n",
    "a=input(\"Enter any one Rock, Paper, Scissors: \")\n",
    "b=input(\"Enter any one Rock, Paper, Scissors: \")\n",
    "if a==\"Rock\":\n",
    "    if b==\"Rock\":\n",
    "        print(\"Match Ties\")\n",
    "    elif b==\"Paper\":\n",
    "        print(\"Paper beats Rock\")\n",
    "    elif b==\"Scissors\":\n",
    "        print(\"Rock beats Scissors\")\n",
    "elif a==\"Paper\":\n",
    "    if b==\"Paper\":\n",
    "        print(\"Match Ties\")\n",
    "    elif b==\"Rock\":\n",
    "        print(\"Paper beats Rock\")\n",
    "    elif b==\"Scissors\":\n",
    "        print(\"Scissors beats Paper\")\n",
    "elif a==\"Scissors\":\n",
    "    if b==\"Scissors\":\n",
    "        print(\"Match Ties\")\n",
    "    elif b==\"Paper\":\n",
    "        print(\"Scissors beats Paper\")\n",
    "    elif b==\"Rock\":\n",
    "        print(\"Rock beats Scissors\")\n",
    "else:\n",
    "    print(\"Invaild Game.\")"
   ]
  },
  {
   "cell_type": "code",
   "execution_count": 8,
   "metadata": {},
   "outputs": [
    {
     "name": "stdout",
     "output_type": "stream",
     "text": [
      "['water bottles', 'chips']\n"
     ]
    }
   ],
   "source": [
    "# 8. Create a program that returns a list of items that you can afford in the store with the money you have in wallet. \n",
    "# Create a dictionary with items as key and price as values\n",
    "supplies={\"water bottles\":20,\"chips\":10,\"Iphone\":49000,\"towel\":90,\"pens\":58,\"cake\":400}\n",
    "money=50\n",
    "l=[]\n",
    "for y,z in supplies.items():\n",
    "    if z<=money:\n",
    "        l.append(y)\n",
    "    else:\n",
    "        continue\n",
    "print(l)"
   ]
  },
  {
   "cell_type": "code",
   "execution_count": 9,
   "metadata": {},
   "outputs": [
    {
     "name": "stdout",
     "output_type": "stream",
     "text": [
      "Enter the numbers for Set 1 : 1\n",
      "Enter the numbers for Set 1 : 2\n",
      "Enter the numbers for Set 1 : 3\n",
      "Enter the numbers for Set 1 : 4\n",
      "Enter the numbers for Set 1 : 5\n",
      "Enter the numbers for Set 1 : 6\n",
      "Enter the numbers for Set 2 : a\n",
      "Enter the numbers for Set 2 : b\n",
      "Enter the numbers for Set 2 : c\n",
      "Enter the numbers for Set 2 : d\n",
      "Enter the numbers for Set 2 : e\n",
      "Enter the numbers for Set 2 : f\n",
      "Union of Set 1 and Set 2 is :  {'e', 'c', '6', 'b', '1', '3', '4', '2', '5', 'd', 'a', 'f'}\n"
     ]
    }
   ],
   "source": [
    "# 9. Write a Python program to create a union of sets\n",
    "x=set()\n",
    "for y in range(6):\n",
    "    a=input(\"Enter the numbers for Set 1 : \")\n",
    "    x.add(a)\n",
    "z=set()\n",
    "for y in range(6):\n",
    "    b=input(\"Enter the numbers for Set 2 : \")\n",
    "    z.add(b)\n",
    "print(\"Union of Set 1 and Set 2 is : \",x.union(z))"
   ]
  },
  {
   "cell_type": "code",
   "execution_count": 10,
   "metadata": {},
   "outputs": [
    {
     "name": "stdout",
     "output_type": "stream",
     "text": [
      "Enter the elements : 1\n",
      "Enter the elements : 4\n",
      "Enter the elements : 8\n",
      "Enter the elements : 19\n",
      "Enter the elements : 23\n",
      "Enter the elements : 79\n",
      "Enter the value to check present in set or not : 8\n",
      "The Value is Present in the given Set\n"
     ]
    }
   ],
   "source": [
    "# 10. Write a Python program to check if a given value is present in a set or not (Dynamic)\n",
    "x=set()\n",
    "for z in range(6):\n",
    "    y=int(input(\"Enter the elements : \"))\n",
    "    x.add(y)\n",
    "n=input(\"Enter the value to check present in set or not : \")\n",
    "if int(n) in x:\n",
    "    print(\"The Value is Present in the given Set\")\n",
    "else:\n",
    "    print(\"The Value is not Present in the given Set\")"
   ]
  },
  {
   "cell_type": "code",
   "execution_count": 11,
   "metadata": {},
   "outputs": [
    {
     "name": "stdout",
     "output_type": "stream",
     "text": [
      "Enter the String : cat dog dog cat horse dog dog mouse horse dog mouse tiger lion tiger cat mouse snail dog dog cat cat tiger tiger mouse\n",
      "{'cat': 5, 'dog': 7, 'mouse': 4, 'tiger': 4}\n"
     ]
    }
   ],
   "source": [
    "# 11. Write a Python program to find the occurrences of 3 most common words in a given text. And make it as a dictionaries\n",
    "x=input(\"Enter the String : \")\n",
    "y=x.split()\n",
    "d={}\n",
    "for i in y:\n",
    "    d[i]=x.count(i)\n",
    "l2=list(d.values())\n",
    "l2.sort()\n",
    "l3=l2[-3:]\n",
    "d1={}\n",
    "for keys,values in d.items():\n",
    "    if values in l3:\n",
    "        d1.update({keys:values})\n",
    "print(d1)"
   ]
  },
  {
   "cell_type": "code",
   "execution_count": 12,
   "metadata": {},
   "outputs": [
    {
     "name": "stdout",
     "output_type": "stream",
     "text": [
      "Enter no. of Subjects : 4\n",
      "Enter the Subject : Data Science\n",
      "Enter the Marks : 95\n",
      "Enter the Subject : Data Analyst\n",
      "Enter the Marks : 95\n",
      "Enter the Subject : Process\n",
      "Enter the Marks : 93\n",
      "Enter the Subject : Modeling & Simulation\n",
      "Enter the Marks : 89\n",
      "The Progress Report is : {'Data Science': 95, 'Data Analyst': 95, 'Process': 93, 'Modeling & Simulation': 89}\n"
     ]
    }
   ],
   "source": [
    "# 12. Write a Python program that accepts name of given subject and mark, and make subjects as keys in dict.\n",
    "# and marks as values and print the final dictionary with subjects and marks\n",
    "x=int(input(\"Enter no. of Subjects : \"))\n",
    "report={}\n",
    "for y in range(x):\n",
    "    sub=input(\"Enter the Subject : \")\n",
    "    marks=int(input(\"Enter the Marks : \"))\n",
    "    report.update({sub:marks})\n",
    "print(\"The Progress Report is :\",report)"
   ]
  },
  {
   "cell_type": "code",
   "execution_count": null,
   "metadata": {},
   "outputs": [],
   "source": []
  }
 ],
 "metadata": {
  "kernelspec": {
   "display_name": "Python 3",
   "language": "python",
   "name": "python3"
  },
  "language_info": {
   "codemirror_mode": {
    "name": "ipython",
    "version": 3
   },
   "file_extension": ".py",
   "mimetype": "text/x-python",
   "name": "python",
   "nbconvert_exporter": "python",
   "pygments_lexer": "ipython3",
   "version": "3.7.4"
  }
 },
 "nbformat": 4,
 "nbformat_minor": 2
}
