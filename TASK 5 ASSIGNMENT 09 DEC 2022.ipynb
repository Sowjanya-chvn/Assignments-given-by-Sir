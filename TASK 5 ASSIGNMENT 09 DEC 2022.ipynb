{
 "cells": [
  {
   "cell_type": "code",
   "execution_count": 1,
   "metadata": {},
   "outputs": [],
   "source": [
    "# 1. Define a function which will return Max of three numbers\n",
    "def maximum(a,b,c):\n",
    "    max=0\n",
    "    for y in (a,b,c):\n",
    "        if y>max:\n",
    "            max=y\n",
    "    return print(\"The Maximum Number is:\",max)"
   ]
  },
  {
   "cell_type": "code",
   "execution_count": 2,
   "metadata": {},
   "outputs": [
    {
     "name": "stdout",
     "output_type": "stream",
     "text": [
      "The Maximum Number is: 100\n"
     ]
    }
   ],
   "source": [
    "maximum(20,40,100)"
   ]
  },
  {
   "cell_type": "code",
   "execution_count": 3,
   "metadata": {},
   "outputs": [],
   "source": [
    "# 2. Define a Python Function to reverse a string.\n",
    "def reverse(s):\n",
    "    l=list(s)\n",
    "    l.reverse()\n",
    "    s=\"\".join(l)\n",
    "    return s"
   ]
  },
  {
   "cell_type": "code",
   "execution_count": 4,
   "metadata": {},
   "outputs": [
    {
     "data": {
      "text/plain": [
       "'aynajwoS'"
      ]
     },
     "execution_count": 4,
     "metadata": {},
     "output_type": "execute_result"
    }
   ],
   "source": [
    "reverse(\"Sowjanya\")"
   ]
  },
  {
   "cell_type": "code",
   "execution_count": 5,
   "metadata": {},
   "outputs": [],
   "source": [
    "# 3. Write a Python program to define a function that accepts 2 values and return its sum, subtraction and multiplication.\n",
    "def result(a,b):\n",
    "    return print(\"The Sum is: {}\\nThe Product is: {}\\nThe Subtraction is: {}\".format((a+b),(a*b),(a-b)))"
   ]
  },
  {
   "cell_type": "code",
   "execution_count": 6,
   "metadata": {},
   "outputs": [
    {
     "name": "stdout",
     "output_type": "stream",
     "text": [
      "The Sum is: 15\n",
      "The Product is: 50\n",
      "The Subtraction is: 5\n"
     ]
    }
   ],
   "source": [
    "result(10,5)"
   ]
  },
  {
   "cell_type": "code",
   "execution_count": 7,
   "metadata": {},
   "outputs": [],
   "source": [
    "# 4. Define a function that accepts roll number and returns whether the student is present or absent.\n",
    "def roll_number(*a):\n",
    "    numbers=int(input(\"Enter the number: \"))\n",
    "    if numbers in a:\n",
    "        return \"Student is Present\"\n",
    "    else:\n",
    "        return \"Student is absent\""
   ]
  },
  {
   "cell_type": "code",
   "execution_count": 8,
   "metadata": {},
   "outputs": [
    {
     "name": "stdout",
     "output_type": "stream",
     "text": [
      "Enter the number: 12\n"
     ]
    },
    {
     "data": {
      "text/plain": [
       "'Student is Present'"
      ]
     },
     "execution_count": 8,
     "metadata": {},
     "output_type": "execute_result"
    }
   ],
   "source": [
    "roll_number(1,2,3,4,5,6,7,10,15,20,25,12,13,17,18)"
   ]
  },
  {
   "cell_type": "code",
   "execution_count": 9,
   "metadata": {},
   "outputs": [],
   "source": [
    "# 5. Define a function in python that accepts n values and returns the maximum of n numbers\n",
    "def maximum(*n):\n",
    "    max=0\n",
    "    for y in n:\n",
    "        if y>max:\n",
    "            max=y\n",
    "    return max"
   ]
  },
  {
   "cell_type": "code",
   "execution_count": 10,
   "metadata": {},
   "outputs": [
    {
     "data": {
      "text/plain": [
       "1000"
      ]
     },
     "execution_count": 10,
     "metadata": {},
     "output_type": "execute_result"
    }
   ],
   "source": [
    "maximum(10,15,30,45,99,1000)"
   ]
  },
  {
   "cell_type": "code",
   "execution_count": 11,
   "metadata": {},
   "outputs": [],
   "source": [
    "# 6. Define a function which counts vowels and consonant in a word.\n",
    "def count(s):\n",
    "    vowels=['a','e','i','o','u','A','E','I','O','U']\n",
    "    v=0\n",
    "    c=0\n",
    "    for y in s:\n",
    "        if y in vowels:\n",
    "            v+=1\n",
    "        elif y not in vowels:\n",
    "            c+=1\n",
    "    return print(\"No. of Vowels present are: {}\\nNo.of Consonants present are: {}\".format(v,c))"
   ]
  },
  {
   "cell_type": "code",
   "execution_count": 12,
   "metadata": {},
   "outputs": [
    {
     "name": "stdout",
     "output_type": "stream",
     "text": [
      "No. of Vowels present are: 6\n",
      "No.of Consonants present are: 10\n"
     ]
    }
   ],
   "source": [
    "count(\"SOWJANYAKARTHEEK\")"
   ]
  },
  {
   "cell_type": "code",
   "execution_count": 13,
   "metadata": {},
   "outputs": [
    {
     "name": "stdout",
     "output_type": "stream",
     "text": [
      "Enter number 7\n",
      "Factorial is 5040\n"
     ]
    }
   ],
   "source": [
    "# 7. Define a function that returns Factorial of a number\n",
    "def factorial(num):\n",
    "    fact = 1\n",
    "    while(num!=0):\n",
    "        fact *= num\n",
    "        num = num - 1\n",
    "    return print(\"Factorial is\",fact)\n",
    "    \n",
    "num = int(input(\"Enter number \"))\n",
    "factorial(num)"
   ]
  },
  {
   "cell_type": "code",
   "execution_count": 14,
   "metadata": {},
   "outputs": [
    {
     "name": "stdout",
     "output_type": "stream",
     "text": [
      "The area of the Circle is:  78.5\n"
     ]
    }
   ],
   "source": [
    "def area(r):\n",
    "    a=3.14*r*r\n",
    "    return print(\"The area of the Circle is: \",a)\n",
    "\n",
    "area(5)"
   ]
  },
  {
   "cell_type": "code",
   "execution_count": 15,
   "metadata": {},
   "outputs": [],
   "source": [
    "# 9. Define a function that takes a number as a parameter and check the number is prime or not.\n",
    "def prime(n):\n",
    "    if (n==1):\n",
    "        return print(\"{} is a Prime Number\".format(n))\n",
    "    elif (n==2):\n",
    "        return print(\"{} is a Prime Number\".format(n))\n",
    "    else:\n",
    "        for x in range(2,n):\n",
    "            if(n % x==0):\n",
    "                return print(\"{} is not a Prime Number\".format(n))\n",
    "        return print(\"{} is a Prime Number\".format(n))"
   ]
  },
  {
   "cell_type": "code",
   "execution_count": 16,
   "metadata": {},
   "outputs": [
    {
     "name": "stdout",
     "output_type": "stream",
     "text": [
      "5 is a Prime Number\n"
     ]
    }
   ],
   "source": [
    "prime(5)"
   ]
  },
  {
   "cell_type": "code",
   "execution_count": 17,
   "metadata": {},
   "outputs": [
    {
     "name": "stdout",
     "output_type": "stream",
     "text": [
      "15 is not a Prime Number\n"
     ]
    }
   ],
   "source": [
    "prime(15)"
   ]
  },
  {
   "cell_type": "code",
   "execution_count": 18,
   "metadata": {},
   "outputs": [
    {
     "name": "stdout",
     "output_type": "stream",
     "text": [
      "7 is a Prime Number\n"
     ]
    }
   ],
   "source": [
    "prime(7)"
   ]
  },
  {
   "cell_type": "code",
   "execution_count": 19,
   "metadata": {},
   "outputs": [],
   "source": [
    "# 10. Mary wants to run a 25-mile marathon. When she attempts to sign up for the marathon, \n",
    "# she notices the sign-up sheet doesn't directly state the marathon's length. \n",
    "# Instead, the marathon's length is listed in small, different portions. \n",
    "#Help Mary find out how long the marathon actually is. So create a function that\n",
    "# ** Return True if the marathon is 25 miles long, otherwise, return False.\n",
    "def marathon(n):\n",
    "    total=0\n",
    "    for y in n:\n",
    "        total=total+abs(y)\n",
    "    if total==25:\n",
    "        return True\n",
    "    else:\n",
    "        return False"
   ]
  },
  {
   "cell_type": "code",
   "execution_count": 20,
   "metadata": {},
   "outputs": [
    {
     "data": {
      "text/plain": [
       "False"
      ]
     },
     "execution_count": 20,
     "metadata": {},
     "output_type": "execute_result"
    }
   ],
   "source": [
    "marathon([1, 2, 3, 4])"
   ]
  },
  {
   "cell_type": "code",
   "execution_count": 21,
   "metadata": {},
   "outputs": [
    {
     "data": {
      "text/plain": [
       "True"
      ]
     },
     "execution_count": 21,
     "metadata": {},
     "output_type": "execute_result"
    }
   ],
   "source": [
    "marathon([1, 9, 5, 8, 2])"
   ]
  },
  {
   "cell_type": "code",
   "execution_count": 22,
   "metadata": {},
   "outputs": [
    {
     "data": {
      "text/plain": [
       "True"
      ]
     },
     "execution_count": 22,
     "metadata": {},
     "output_type": "execute_result"
    }
   ],
   "source": [
    "marathon([-6,15,4])"
   ]
  },
  {
   "cell_type": "code",
   "execution_count": 23,
   "metadata": {},
   "outputs": [
    {
     "data": {
      "text/plain": [
       "True"
      ]
     },
     "execution_count": 23,
     "metadata": {},
     "output_type": "execute_result"
    }
   ],
   "source": [
    "marathon([-6,-5,-4,10])"
   ]
  },
  {
   "cell_type": "code",
   "execution_count": 24,
   "metadata": {},
   "outputs": [],
   "source": [
    "# 11. Create a function that takes a number and returns True if the number is automorphic, False if it isn't.\n",
    "# ** number n is automorphic if n^2 ends in n.\n",
    "def automorphic(n):\n",
    "    num=str(n**2)\n",
    "    if num[-1]==str(n):\n",
    "        return \"TRUE the number is Automorphic\"\n",
    "    else:\n",
    "        return \"False the number is Not Automorphic\""
   ]
  },
  {
   "cell_type": "code",
   "execution_count": 25,
   "metadata": {},
   "outputs": [
    {
     "data": {
      "text/plain": [
       "'TRUE the number is Automorphic'"
      ]
     },
     "execution_count": 25,
     "metadata": {},
     "output_type": "execute_result"
    }
   ],
   "source": [
    "automorphic(5)"
   ]
  },
  {
   "cell_type": "code",
   "execution_count": 26,
   "metadata": {},
   "outputs": [
    {
     "data": {
      "text/plain": [
       "'False the number is Not Automorphic'"
      ]
     },
     "execution_count": 26,
     "metadata": {},
     "output_type": "execute_result"
    }
   ],
   "source": [
    "automorphic(4)"
   ]
  },
  {
   "cell_type": "code",
   "execution_count": 27,
   "metadata": {},
   "outputs": [
    {
     "data": {
      "text/plain": [
       "'False the number is Not Automorphic'"
      ]
     },
     "execution_count": 27,
     "metadata": {},
     "output_type": "execute_result"
    }
   ],
   "source": [
    "automorphic(7)"
   ]
  },
  {
   "cell_type": "code",
   "execution_count": 28,
   "metadata": {},
   "outputs": [],
   "source": [
    "# 12. Create a function, that will take given a, b, c, and do the following:\n",
    "# Add a to itself b times and Check if the result is divisible by c.and return true if it is divisible by c or false\n",
    "def result(a,b,c):\n",
    "    sum=0\n",
    "    for y in range(b):\n",
    "        sum+=a\n",
    "    if sum//c==1:\n",
    "        return True\n",
    "    else: \n",
    "        return False"
   ]
  },
  {
   "cell_type": "code",
   "execution_count": 29,
   "metadata": {},
   "outputs": [
    {
     "data": {
      "text/plain": [
       "False"
      ]
     },
     "execution_count": 29,
     "metadata": {},
     "output_type": "execute_result"
    }
   ],
   "source": [
    "result(1,1,2)"
   ]
  },
  {
   "cell_type": "code",
   "execution_count": 30,
   "metadata": {},
   "outputs": [
    {
     "data": {
      "text/plain": [
       "True"
      ]
     },
     "execution_count": 30,
     "metadata": {},
     "output_type": "execute_result"
    }
   ],
   "source": [
    "result(1,2,2)"
   ]
  },
  {
   "cell_type": "code",
   "execution_count": 31,
   "metadata": {},
   "outputs": [
    {
     "data": {
      "text/plain": [
       "True"
      ]
     },
     "execution_count": 31,
     "metadata": {},
     "output_type": "execute_result"
    }
   ],
   "source": [
    "result(1,1,1)"
   ]
  },
  {
   "cell_type": "code",
   "execution_count": 32,
   "metadata": {},
   "outputs": [
    {
     "data": {
      "text/plain": [
       "True"
      ]
     },
     "execution_count": 32,
     "metadata": {},
     "output_type": "execute_result"
    }
   ],
   "source": [
    "result(2,3,6)"
   ]
  },
  {
   "cell_type": "code",
   "execution_count": 33,
   "metadata": {},
   "outputs": [],
   "source": [
    "# 13. Create a function that changes specific words into emoticons. Given a sentence as a string, \n",
    "# replace the words smile, grin, sad and mad with their corresponding emoticons.\n",
    "def emotions(s):\n",
    "    l=s.split(\" \")\n",
    "    for y in range(len(l)):\n",
    "        if l[y]==\"smile\" or l[y]==\"Smile\":\n",
    "            l[y]=\":D\"\n",
    "        elif l[y]==\"grin\" or l[y]==\"Grin\":\n",
    "            l[y]=\":)\"\n",
    "        elif l[y]==\"sad\" or l[y]==\"Sad\":\n",
    "            l[y]=\":(\"\n",
    "        elif l[y]==\"mad\" or l[y]==\"Mad\":\n",
    "            l[y]=\":P\"\n",
    "    return \" \".join(l)"
   ]
  },
  {
   "cell_type": "code",
   "execution_count": 34,
   "metadata": {},
   "outputs": [
    {
     "data": {
      "text/plain": [
       "'Make me :D'"
      ]
     },
     "execution_count": 34,
     "metadata": {},
     "output_type": "execute_result"
    }
   ],
   "source": [
    "emotions(\"Make me smile\")"
   ]
  },
  {
   "cell_type": "code",
   "execution_count": 35,
   "metadata": {},
   "outputs": [
    {
     "data": {
      "text/plain": [
       "'Make me :)'"
      ]
     },
     "execution_count": 35,
     "metadata": {},
     "output_type": "execute_result"
    }
   ],
   "source": [
    "emotions(\"Make me grin\")"
   ]
  },
  {
   "cell_type": "code",
   "execution_count": 36,
   "metadata": {},
   "outputs": [
    {
     "data": {
      "text/plain": [
       "'Make me :('"
      ]
     },
     "execution_count": 36,
     "metadata": {},
     "output_type": "execute_result"
    }
   ],
   "source": [
    "emotions(\"Make me sad\")"
   ]
  },
  {
   "cell_type": "code",
   "execution_count": 37,
   "metadata": {},
   "outputs": [
    {
     "data": {
      "text/plain": [
       "'Make me :P'"
      ]
     },
     "execution_count": 37,
     "metadata": {},
     "output_type": "execute_result"
    }
   ],
   "source": [
    "emotions(\"Make me Mad\")"
   ]
  },
  {
   "cell_type": "code",
   "execution_count": 38,
   "metadata": {},
   "outputs": [
    {
     "name": "stdout",
     "output_type": "stream",
     "text": [
      "[1, 4, 9, 16, 25, 36, 49, 64, 81, 100, 121, 144, 169, 196]\n",
      "[1, 8, 27, 64, 125, 216, 343, 512, 729, 1000, 1331, 1728, 2197, 2744]\n"
     ]
    }
   ],
   "source": [
    "# 14. Write a Python program to square and cube every number in a given list of integers using Lambda\n",
    "square=list(map(lambda x:x**2,range(1,15)))\n",
    "print(square)\n",
    "cube=list(map(lambda x:x**3,range(1,15)))\n",
    "print(cube)"
   ]
  },
  {
   "cell_type": "code",
   "execution_count": 39,
   "metadata": {},
   "outputs": [],
   "source": [
    "# 15. Write a Python program to check whether a given string is number or not using Lambda\n",
    "x=lambda x:x.isdigit()"
   ]
  },
  {
   "cell_type": "code",
   "execution_count": 40,
   "metadata": {},
   "outputs": [
    {
     "data": {
      "text/plain": [
       "True"
      ]
     },
     "execution_count": 40,
     "metadata": {},
     "output_type": "execute_result"
    }
   ],
   "source": [
    "x(\"1234\")"
   ]
  },
  {
   "cell_type": "code",
   "execution_count": 41,
   "metadata": {},
   "outputs": [
    {
     "data": {
      "text/plain": [
       "False"
      ]
     },
     "execution_count": 41,
     "metadata": {},
     "output_type": "execute_result"
    }
   ],
   "source": [
    "x(\"sowjanay\")"
   ]
  },
  {
   "cell_type": "code",
   "execution_count": 42,
   "metadata": {},
   "outputs": [
    {
     "data": {
      "text/plain": [
       "False"
      ]
     },
     "execution_count": 42,
     "metadata": {},
     "output_type": "execute_result"
    }
   ],
   "source": [
    "x(\"SowjanyaKartheek\")"
   ]
  },
  {
   "cell_type": "code",
   "execution_count": null,
   "metadata": {},
   "outputs": [],
   "source": []
  }
 ],
 "metadata": {
  "kernelspec": {
   "display_name": "Python 3",
   "language": "python",
   "name": "python3"
  },
  "language_info": {
   "codemirror_mode": {
    "name": "ipython",
    "version": 3
   },
   "file_extension": ".py",
   "mimetype": "text/x-python",
   "name": "python",
   "nbconvert_exporter": "python",
   "pygments_lexer": "ipython3",
   "version": "3.7.4"
  }
 },
 "nbformat": 4,
 "nbformat_minor": 2
}
