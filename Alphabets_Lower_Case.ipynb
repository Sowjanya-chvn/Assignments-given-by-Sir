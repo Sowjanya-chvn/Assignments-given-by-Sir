{
 "cells": [
  {
   "cell_type": "code",
   "execution_count": 8,
   "metadata": {},
   "outputs": [
    {
     "name": "stdout",
     "output_type": "stream",
     "text": [
      " *  *\n",
      "*    *\n",
      "*    *    *\n",
      "*    * * *\n",
      " * *\n"
     ]
    }
   ],
   "source": [
    "# a\n",
    "for y in range(6):\n",
    "    if y==1:\n",
    "        print(\" *  *\")\n",
    "    elif y==2:\n",
    "        print(\"*    *\")\n",
    "    elif y==3:\n",
    "        print(\"*    *    *\")\n",
    "    elif y==4:\n",
    "        print(\"*    * * *\")\n",
    "    elif y==5:\n",
    "        print(\" * *\")"
   ]
  },
  {
   "cell_type": "code",
   "execution_count": 12,
   "metadata": {},
   "outputs": [
    {
     "name": "stdout",
     "output_type": "stream",
     "text": [
      "*\n",
      "*\n",
      "*\n",
      "***\n",
      "*  *\n",
      "*  *\n",
      "*  *\n",
      "***\n"
     ]
    }
   ],
   "source": [
    "# b\n",
    "for y in range(9):\n",
    "    if y==1:\n",
    "        print(\"*\")\n",
    "    elif y==2:\n",
    "        print(\"*\")\n",
    "    elif y==3:\n",
    "        print(\"*\")\n",
    "    elif y==4:\n",
    "        print(\"***\")\n",
    "    elif y==5:\n",
    "        print(\"*  *\")\n",
    "    elif y==6:\n",
    "        print(\"*  *\")\n",
    "    elif y==7:\n",
    "        print(\"*  *\")\n",
    "    elif y==8:\n",
    "        print(\"***\")"
   ]
  },
  {
   "cell_type": "code",
   "execution_count": 13,
   "metadata": {},
   "outputs": [
    {
     "name": "stdout",
     "output_type": "stream",
     "text": [
      "  *   *\n",
      "*     \n",
      "*     \n",
      "*    \n",
      "  *   *\n"
     ]
    }
   ],
   "source": [
    "# c\n",
    "for a in range(6):\n",
    "    if a==1:\n",
    "        print(\"  *   *\")\n",
    "    elif a==2:\n",
    "        print(\"*     \")\n",
    "    elif a==3:\n",
    "        print(\"*     \")\n",
    "    elif a==4:\n",
    "        print(\"*    \")\n",
    "    elif a==5:\n",
    "        print(\"  *   *\")"
   ]
  },
  {
   "cell_type": "code",
   "execution_count": 20,
   "metadata": {},
   "outputs": [
    {
     "name": "stdout",
     "output_type": "stream",
     "text": [
      "    *\n",
      "    *\n",
      "    *\n",
      " ** *\n",
      "*   *\n",
      "*   *\n",
      "*   *\n",
      " ** *\n"
     ]
    }
   ],
   "source": [
    "# d\n",
    "for y in range(9):\n",
    "    if y==1:\n",
    "        print(\"    *\")\n",
    "    elif y==2:\n",
    "        print(\"    *\")\n",
    "    elif y==3:\n",
    "        print(\"    *\")\n",
    "    elif y==4:\n",
    "        print(\" ** *\")\n",
    "    elif y==5:\n",
    "        print(\"*   *\")\n",
    "    elif y==6:\n",
    "        print(\"*   *\")\n",
    "    elif y==7:\n",
    "        print(\"*   *\")\n",
    "    elif y==8:\n",
    "        print(\" ** *\")"
   ]
  },
  {
   "cell_type": "code",
   "execution_count": 33,
   "metadata": {},
   "outputs": [
    {
     "name": "stdout",
     "output_type": "stream",
     "text": [
      " * *\n",
      "*   *\n",
      "*****\n",
      "*\n",
      " *\n",
      "   ***\n"
     ]
    }
   ],
   "source": [
    "# e\n",
    "for y in range(7):\n",
    "    if y==1:\n",
    "        print(\" * *\")\n",
    "    elif y==2:\n",
    "        print(\"*   *\")\n",
    "    elif y==3:\n",
    "        print(\"*****\")\n",
    "    elif y==4:\n",
    "        print(\"*\")\n",
    "    elif y==5:\n",
    "        print(\" *\")\n",
    "    elif y==6: \n",
    "        print(\"   ***\")"
   ]
  },
  {
   "cell_type": "code",
   "execution_count": 36,
   "metadata": {},
   "outputs": [
    {
     "name": "stdout",
     "output_type": "stream",
     "text": [
      "   * *\n",
      "  *\n",
      "  *\n",
      "******\n",
      "  *\n",
      "  *\n",
      "  *\n"
     ]
    }
   ],
   "source": [
    "# f\n",
    "for y in range(8):\n",
    "    if y==1:\n",
    "        print(\"   * *\")\n",
    "    elif y==2:\n",
    "        print(\"  *\")\n",
    "    elif y==3:\n",
    "        print(\"  *\")\n",
    "    elif y==4:\n",
    "        print(\"******\")\n",
    "    elif y==5:\n",
    "        print(\"  *\")\n",
    "    elif y==6:\n",
    "        print(\"  *\")\n",
    "    elif y==7:\n",
    "        print(\"  *\")"
   ]
  },
  {
   "cell_type": "code",
   "execution_count": 40,
   "metadata": {},
   "outputs": [
    {
     "name": "stdout",
     "output_type": "stream",
     "text": [
      "  * *\n",
      "*   *\n",
      "* * *\n",
      "    *\n",
      "    *\n",
      "*   *\n",
      "  * *\n"
     ]
    }
   ],
   "source": [
    "# g\n",
    "for y in range(8):\n",
    "    if y==1:\n",
    "        print(\"  * *\")\n",
    "    elif y==2:\n",
    "        print(\"*   *\")\n",
    "    elif y==3:\n",
    "        print(\"* * *\")\n",
    "    elif y==4:\n",
    "        print(\"    *\")\n",
    "    elif y==5:\n",
    "        print(\"    *\")\n",
    "    elif y==6:\n",
    "        print(\"*   *\")\n",
    "    elif y==7:\n",
    "        print(\"  * *\")"
   ]
  },
  {
   "cell_type": "code",
   "execution_count": 42,
   "metadata": {},
   "outputs": [
    {
     "name": "stdout",
     "output_type": "stream",
     "text": [
      "*   \n",
      "*   \n",
      "*****\n",
      "*   *\n",
      "*   *\n"
     ]
    }
   ],
   "source": [
    "# h\n",
    "for a in range(6):\n",
    "    if a==1:\n",
    "        print(\"*   \")\n",
    "    elif a==2:\n",
    "        print(\"*   \")\n",
    "    elif a==3:\n",
    "        print(\"*****\")\n",
    "    elif a==4:\n",
    "        print(\"*   *\")\n",
    "    elif a==5:\n",
    "        print(\"*   *\")"
   ]
  },
  {
   "cell_type": "code",
   "execution_count": 46,
   "metadata": {},
   "outputs": [
    {
     "name": "stdout",
     "output_type": "stream",
     "text": [
      "   * \n",
      " \n",
      "   *\n",
      "   *\n",
      "   *\n",
      "   *\n"
     ]
    }
   ],
   "source": [
    "# i\n",
    "for a in range(7):\n",
    "    if a==1:\n",
    "        print(\"   * \")\n",
    "    elif a==2:\n",
    "        print(\" \")\n",
    "    elif a==3:\n",
    "        print(\"   *\")\n",
    "    elif a==4:\n",
    "        print(\"   *\")\n",
    "    elif a==5:\n",
    "        print(\"   *\")\n",
    "    elif a==6:\n",
    "        print(\"   *\")"
   ]
  },
  {
   "cell_type": "code",
   "execution_count": 47,
   "metadata": {},
   "outputs": [
    {
     "name": "stdout",
     "output_type": "stream",
     "text": [
      "   *\n",
      " \n",
      "   *\n",
      "   *\n",
      "*  *\n",
      " * *\n",
      "  *\n"
     ]
    }
   ],
   "source": [
    "# j\n",
    "for a in range(8):\n",
    "    if a==1:\n",
    "        print(\"   *\")\n",
    "    elif a==2:\n",
    "        print(\" \")\n",
    "    elif a==3:\n",
    "        print(\"   *\")\n",
    "    elif a==4:\n",
    "        print(\"   *\")\n",
    "    elif a==5:\n",
    "        print(\"*  *\")\n",
    "    elif a==6:\n",
    "        print(\" * *\")\n",
    "    elif a==7:\n",
    "        print(\"  *\")"
   ]
  },
  {
   "cell_type": "code",
   "execution_count": 48,
   "metadata": {},
   "outputs": [
    {
     "name": "stdout",
     "output_type": "stream",
     "text": [
      "*\n",
      "*\n",
      "***\n",
      "*  *\n",
      "* *\n",
      "**\n",
      "* *\n",
      "*  *\n",
      "*   *\n"
     ]
    }
   ],
   "source": [
    "# k\n",
    "for a in range(10):\n",
    "    if a==1:\n",
    "        print(\"*\")\n",
    "    elif a==2:\n",
    "        print(\"*\")\n",
    "    elif a==3:\n",
    "        print(\"***\")\n",
    "    elif a==4:\n",
    "        print(\"*  *\")\n",
    "    elif a==5:\n",
    "        print(\"* *\")\n",
    "    elif a==6:\n",
    "        print(\"**\")\n",
    "    elif a==7:\n",
    "        print(\"* *\")\n",
    "    elif a==8:\n",
    "        print(\"*  *\")\n",
    "    elif a==9:\n",
    "        print(\"*   *\")"
   ]
  },
  {
   "cell_type": "code",
   "execution_count": 49,
   "metadata": {},
   "outputs": [
    {
     "name": "stdout",
     "output_type": "stream",
     "text": [
      "*\n",
      "*\n",
      "*\n",
      "*\n",
      "*\n"
     ]
    }
   ],
   "source": [
    "# L\n",
    "for a in range(6):\n",
    "    if a==1:\n",
    "        print(\"*\")\n",
    "    elif a==2:\n",
    "        print(\"*\")\n",
    "    elif a==3:\n",
    "        print(\"*\")\n",
    "    elif a==4:\n",
    "        print(\"*\")\n",
    "    elif a==5:\n",
    "        print(\"*\")"
   ]
  },
  {
   "cell_type": "code",
   "execution_count": 63,
   "metadata": {},
   "outputs": [
    {
     "name": "stdout",
     "output_type": "stream",
     "text": [
      "*\n",
      "   *  * \n",
      " *  *  *\n",
      " *  *  *\n",
      " *  *  *\n"
     ]
    }
   ],
   "source": [
    "# m \n",
    "for a in range(6):\n",
    "    if a==1:\n",
    "        print(\"*\")\n",
    "    elif a==3:\n",
    "        print(\"   *  * \")\n",
    "    elif a==4:\n",
    "        print(\" *  *  *\")\n",
    "    elif a==5:\n",
    "        print(\" *  *  *\")\n",
    "    if a==5:\n",
    "        print(\" *  *  *\")"
   ]
  },
  {
   "cell_type": "code",
   "execution_count": 64,
   "metadata": {},
   "outputs": [
    {
     "name": "stdout",
     "output_type": "stream",
     "text": [
      "*    \n",
      "  *** \n",
      " *   *\n",
      " *   *\n",
      " *   *\n"
     ]
    }
   ],
   "source": [
    "# n\n",
    "for y in range(6):\n",
    "    if y==1:\n",
    "        print(\"*    \")\n",
    "    elif y==2:\n",
    "        print(\"  *** \")\n",
    "    elif y==3:\n",
    "        print(\" *   *\")\n",
    "    elif y==4:\n",
    "        print(\" *   *\")\n",
    "    elif y==5:\n",
    "        print(\" *   *\")"
   ]
  },
  {
   "cell_type": "code",
   "execution_count": 65,
   "metadata": {},
   "outputs": [
    {
     "name": "stdout",
     "output_type": "stream",
     "text": [
      " *** \n",
      "*   *\n",
      "*   *\n",
      "*   *\n",
      " *** \n"
     ]
    }
   ],
   "source": [
    "# O\n",
    "for a in range(6):\n",
    "    if a==1:\n",
    "        print(\" *** \")\n",
    "    elif a==2:\n",
    "        print(\"*   *\")\n",
    "    elif a==3:\n",
    "        print(\"*   *\")\n",
    "    elif a==4:\n",
    "        print(\"*   *\")\n",
    "    elif a==5:\n",
    "        print(\" *** \")"
   ]
  },
  {
   "cell_type": "code",
   "execution_count": 66,
   "metadata": {},
   "outputs": [
    {
     "name": "stdout",
     "output_type": "stream",
     "text": [
      "*\n",
      "*\n",
      "**\n",
      "*  *\n",
      "*  *\n",
      "* *\n",
      "*\n",
      "*\n",
      "*\n"
     ]
    }
   ],
   "source": [
    "# P\n",
    "for a in range(10):\n",
    "    if a==1:\n",
    "        print(\"*\")\n",
    "    elif a==2:\n",
    "        print(\"*\")\n",
    "    elif a==3:\n",
    "        print(\"**\")\n",
    "    elif a==4:\n",
    "        print(\"*  *\")\n",
    "    elif a==5:\n",
    "        print(\"*  *\")\n",
    "    elif a==6:\n",
    "        print(\"* *\")\n",
    "    elif a==7:\n",
    "        print(\"*\")\n",
    "    elif a==8:\n",
    "        print(\"*\")\n",
    "    elif a==9:\n",
    "        print(\"*\")"
   ]
  },
  {
   "cell_type": "code",
   "execution_count": 70,
   "metadata": {},
   "outputs": [
    {
     "name": "stdout",
     "output_type": "stream",
     "text": [
      " *** \n",
      "*   *\n",
      "*   *\n",
      "*   *\n",
      " ** * \n",
      "    *    *\n",
      "    *   *\n",
      "    *  *\n",
      "    *\n"
     ]
    }
   ],
   "source": [
    "# q\n",
    "for a in range(10):\n",
    "    if a==1:\n",
    "        print(\" *** \")\n",
    "    elif a==2:\n",
    "        print(\"*   *\")\n",
    "    elif a==3:\n",
    "        print(\"*   *\")\n",
    "    elif a==4:\n",
    "        print(\"*   *\")\n",
    "    elif a==5:\n",
    "        print(\" ** * \")\n",
    "    elif a==6:\n",
    "        print(\"    *    *\")\n",
    "    elif a==7:\n",
    "        print(\"    *   *\")\n",
    "    elif a==8:\n",
    "        print(\"    *  *\")\n",
    "    elif a==9:\n",
    "        print(\"    *\")"
   ]
  },
  {
   "cell_type": "code",
   "execution_count": 72,
   "metadata": {},
   "outputs": [
    {
     "name": "stdout",
     "output_type": "stream",
     "text": [
      "*\n",
      "* * *\n",
      "*    *\n",
      "*\n",
      "*\n",
      "*\n",
      "*\n"
     ]
    }
   ],
   "source": [
    "# r\n",
    "for y in range(8):\n",
    "    if y==1:\n",
    "        print(\"*\")\n",
    "    elif y==2:\n",
    "        print(\"* * *\")\n",
    "    elif y==3:\n",
    "        print(\"*    *\")\n",
    "    elif y==4:\n",
    "        print(\"*\")\n",
    "    elif y==5:\n",
    "        print(\"*\")\n",
    "    elif y==6:\n",
    "        print(\"*\")\n",
    "    elif y==7:\n",
    "        print(\"*\")"
   ]
  },
  {
   "cell_type": "code",
   "execution_count": 98,
   "metadata": {},
   "outputs": [
    {
     "name": "stdout",
     "output_type": "stream",
     "text": [
      "    *  * * * *\n",
      "  *           *   \n",
      "  *          *  \n",
      "  *         * \n",
      "    *   *  *\n",
      "         *    *\n",
      "       *      *\n",
      "      *       *\n",
      "    *        *\n",
      "  * * * * *      \n",
      " *\n",
      "*\n"
     ]
    }
   ],
   "source": [
    "# S\n",
    "for a in range(13):\n",
    "    if a==1:\n",
    "        print(\"    *  * * * *\")\n",
    "    elif a==2:\n",
    "        print(\"  *           *   \")\n",
    "    elif a==3:\n",
    "        print(\"  *          *  \")\n",
    "    elif a==4:\n",
    "        print(\"  *         * \")\n",
    "    elif a==5:\n",
    "        print(\"    *   *  *\")\n",
    "    elif a==6:\n",
    "        print(\"         *    *\")\n",
    "    elif a==7:\n",
    "        print(\"       *      *\")\n",
    "    elif a==8:\n",
    "        print(\"      *       *\")\n",
    "    elif a==9:\n",
    "        print(\"    *        *\")\n",
    "    elif a==10:\n",
    "        print(\"  * * * * *      \")\n",
    "    elif a==11:\n",
    "        print(\" *\")\n",
    "    elif a==12:\n",
    "        print(\"*\")"
   ]
  },
  {
   "cell_type": "code",
   "execution_count": 103,
   "metadata": {},
   "outputs": [
    {
     "name": "stdout",
     "output_type": "stream",
     "text": [
      "  *\n",
      "  *\n",
      "*****\n",
      "  *\n",
      "  *    *\n",
      "  * * *\n"
     ]
    }
   ],
   "source": [
    "# t\n",
    "for a in range(7):\n",
    "    if a==1:\n",
    "        print(\"  *\")\n",
    "    elif a==2:\n",
    "        print(\"  *\")\n",
    "    elif a==3:\n",
    "        print(\"*****\")\n",
    "    elif a==4:\n",
    "        print(\"  *\")\n",
    "    elif a==5:\n",
    "        print(\"  *    *\")\n",
    "    elif a==6:\n",
    "        print(\"  * * *\")"
   ]
  },
  {
   "cell_type": "code",
   "execution_count": 112,
   "metadata": {},
   "outputs": [
    {
     "name": "stdout",
     "output_type": "stream",
     "text": [
      "  *       *\n",
      "  *       *\n",
      "  *       *\n",
      "  *       *\n",
      "   *  * * *\n",
      "           *\n"
     ]
    }
   ],
   "source": [
    "# U\n",
    "for a in range(7):\n",
    "    if a==1:\n",
    "        print(\"  *       *\")\n",
    "    elif a==2:\n",
    "        print(\"  *       *\")\n",
    "    elif a==3:\n",
    "        print(\"  *       *\")\n",
    "    elif a==4:\n",
    "        print(\"  *       *\")\n",
    "    elif a==5:\n",
    "        print(\"   *  * * *\")\n",
    "    elif a==6:\n",
    "        print(\"           *\")"
   ]
  },
  {
   "cell_type": "code",
   "execution_count": 113,
   "metadata": {},
   "outputs": [
    {
     "name": "stdout",
     "output_type": "stream",
     "text": [
      "*          *\n",
      " *        *\n",
      "  *      *\n",
      "   *   *\n",
      "     *  \n"
     ]
    }
   ],
   "source": [
    "# V\n",
    "for a in range(6):\n",
    "    if a==1:\n",
    "        print(\"*          *\")\n",
    "    elif a==2:\n",
    "        print(\" *        *\")\n",
    "    elif a==3:\n",
    "        print(\"  *      *\")\n",
    "    elif a==4:\n",
    "        print(\"   *   *\")\n",
    "    elif a==5:\n",
    "        print(\"     *  \")"
   ]
  },
  {
   "cell_type": "code",
   "execution_count": 114,
   "metadata": {},
   "outputs": [
    {
     "name": "stdout",
     "output_type": "stream",
     "text": [
      "*       *\n",
      "*       *\n",
      "*   *   *\n",
      "* *   * *\n",
      "*       *\n"
     ]
    }
   ],
   "source": [
    "# w\n",
    "for a in range(6):\n",
    "    if a==1:\n",
    "        print(\"*       *\")\n",
    "    elif a==2:\n",
    "        print(\"*       *\")\n",
    "    elif a==3:\n",
    "        print(\"*   *   *\")\n",
    "    elif a==4:\n",
    "        print(\"* *   * *\")\n",
    "    elif a==5:\n",
    "        print(\"*       *\")"
   ]
  },
  {
   "cell_type": "code",
   "execution_count": 118,
   "metadata": {},
   "outputs": [
    {
     "name": "stdout",
     "output_type": "stream",
     "text": [
      "*      *\n",
      " *    * \n",
      "  *  *\n",
      "    *\n",
      "  *  *\n",
      " *    * \n",
      "*      *\n"
     ]
    }
   ],
   "source": [
    "# x\n",
    "for a in range(8):\n",
    "    if a==1:\n",
    "        print(\"*      *\")\n",
    "    elif a==2:\n",
    "        print(\" *    * \")\n",
    "    elif a==3:\n",
    "        print(\"  *  *\")\n",
    "    elif a==4:\n",
    "        print(\"    *\")\n",
    "    elif a==7:\n",
    "        print(\"*      *\")\n",
    "    elif a==6:\n",
    "        print(\" *    * \")\n",
    "    elif a==5:\n",
    "        print(\"  *  *\")\n",
    "    elif a==7:\n",
    "        print(\"  *      *\")"
   ]
  },
  {
   "cell_type": "code",
   "execution_count": 150,
   "metadata": {},
   "outputs": [
    {
     "name": "stdout",
     "output_type": "stream",
     "text": [
      " *    *\n",
      "  *   *\n",
      "   ****\n",
      "      *\n",
      " *    *\n",
      "  * * *\n"
     ]
    }
   ],
   "source": [
    "# y\n",
    "for a in range(7):\n",
    "    if a==1:\n",
    "        print(\" *    *\")\n",
    "    elif a==2:\n",
    "        print(\"  *   *\")\n",
    "    elif a==3:\n",
    "        print(\"   ****\")\n",
    "    elif a==4:\n",
    "        print(\"      *\")\n",
    "    elif a==5:\n",
    "        print(\" *    *\")\n",
    "    elif a==6:\n",
    "        print(\"  * * *\")"
   ]
  },
  {
   "cell_type": "code",
   "execution_count": 175,
   "metadata": {},
   "outputs": [
    {
     "name": "stdout",
     "output_type": "stream",
     "text": [
      "********\n",
      "      *\n",
      "     *\n",
      " ********\n",
      "   *\n",
      "  *\n",
      " ********\n"
     ]
    }
   ],
   "source": [
    "# z\n",
    "for a in range((8)):\n",
    "    if a==1:\n",
    "        print(\"********\")\n",
    "    elif a==2:\n",
    "        print(\"      *\")\n",
    "    elif a==3:\n",
    "        print(\"     *\")\n",
    "    elif a==4:\n",
    "        print(\" ********\")\n",
    "    elif a==5:\n",
    "        print(\"   *\")\n",
    "    elif a==6:\n",
    "        print(\"  *\")\n",
    "    elif a==7:\n",
    "        print(\" ********\")"
   ]
  },
  {
   "cell_type": "code",
   "execution_count": null,
   "metadata": {},
   "outputs": [],
   "source": []
  }
 ],
 "metadata": {
  "kernelspec": {
   "display_name": "Python 3",
   "language": "python",
   "name": "python3"
  },
  "language_info": {
   "codemirror_mode": {
    "name": "ipython",
    "version": 3
   },
   "file_extension": ".py",
   "mimetype": "text/x-python",
   "name": "python",
   "nbconvert_exporter": "python",
   "pygments_lexer": "ipython3",
   "version": "3.7.4"
  }
 },
 "nbformat": 4,
 "nbformat_minor": 2
}
